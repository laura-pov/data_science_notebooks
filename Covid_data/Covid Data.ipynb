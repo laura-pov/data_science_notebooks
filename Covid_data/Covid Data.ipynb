{
 "cells": [
  {
   "cell_type": "code",
   "execution_count": 1,
   "metadata": {},
   "outputs": [],
   "source": [
    "import pandas as pd"
   ]
  },
  {
   "cell_type": "markdown",
   "metadata": {},
   "source": [
    "## data dictionary\n",
    "\n",
    "Aprašas\n",
    "\n",
    "\n",
    "Pateikta agreguota informacija kiekvienai dienai pagal savivaldybes nuo pandemijos pradžios Lietuvoje apie COVID-19 atvejus. Duomenys pateikti taškais, kurie nurodo statistiką tam tikroje savivaldybėje tam tikrą dieną. \n",
    "Ankstesnių dienų duomenys gali keistis duomenų teikėjui juos revizavus"
   ]
  },
  {
   "cell_type": "code",
   "execution_count": 129,
   "metadata": {},
   "outputs": [],
   "source": [
    "duomenu_failas = 'https://opendata.arcgis.com/datasets/3df1e86f5235498ab7cf9cec615a7fd7_0.csv'\n",
    "#duomenu_failas = 'data\\failopavadinimas.csv'"
   ]
  },
  {
   "cell_type": "code",
   "execution_count": 130,
   "metadata": {},
   "outputs": [],
   "source": [
    "df = pd.read_csv(duomenu_failas)\n",
    "#df = pd.read_csv(duomenu_failas)"
   ]
  },
  {
   "cell_type": "code",
   "execution_count": 131,
   "metadata": {},
   "outputs": [],
   "source": [
    "df['date'] = pd.to_datetime(df['date'])"
   ]
  },
  {
   "cell_type": "code",
   "execution_count": 132,
   "metadata": {},
   "outputs": [],
   "source": [
    "df['yearmonth'] = df['date'].values.astype('datetime64[M]')\n",
    "df['yearweek'] = df['date'].dt.strftime('%Y-w%U')"
   ]
  },
  {
   "cell_type": "code",
   "execution_count": 133,
   "metadata": {},
   "outputs": [],
   "source": [
    "df.pivot_table(index=['yearmonth', 'municipality_name'], values='confirmed_cases', aggfunc='sum').reset_index().to_excel('output\\cases.xlsx')"
   ]
  },
  {
   "cell_type": "markdown",
   "metadata": {},
   "source": [
    "## Truncate Data to start from September"
   ]
  },
  {
   "cell_type": "code",
   "execution_count": 158,
   "metadata": {},
   "outputs": [
    {
     "data": {
      "text/plain": [
       "True"
      ]
     },
     "execution_count": 158,
     "metadata": {},
     "output_type": "execute_result"
    }
   ],
   "source": [
    "len(df[['date', 'municipality_name']]) == len(df[['date', 'municipality_code']].drop_duplicates())"
   ]
  },
  {
   "cell_type": "markdown",
   "metadata": {},
   "source": [
    "## Creating a daily delta of confirmed_cases"
   ]
  },
  {
   "cell_type": "code",
   "execution_count": 160,
   "metadata": {},
   "outputs": [],
   "source": [
    "df = df.sort_values(by=['municipality_name', 'date']).reset_index()\n"
   ]
  },
  {
   "cell_type": "code",
   "execution_count": 176,
   "metadata": {},
   "outputs": [],
   "source": [
    "dfs = []\n",
    "iterate = list(set(df['municipality_name']))\n",
    "\n",
    "for data_subset in iterate:\n",
    "    df_subset = df[df['municipality_name']==data_subset].reset_index()\n",
    "    df_subset['delta_confirmed_cases'] = df_subset['confirmed_cases'].diff()\n",
    "    dfs.append(df_subset)\n",
    "\n",
    "df = pd.concat(dfs)"
   ]
  },
  {
   "cell_type": "code",
   "execution_count": 163,
   "metadata": {},
   "outputs": [
    {
     "data": {
      "text/plain": [
       "22.8226699734169"
      ]
     },
     "execution_count": 163,
     "metadata": {},
     "output_type": "execute_result"
    }
   ],
   "source": [
    "#axis 0 -> eilute\n",
    "#axis 1 -> stulpelis"
   ]
  },
  {
   "cell_type": "code",
   "execution_count": 162,
   "metadata": {},
   "outputs": [
    {
     "data": {
      "text/html": [
       "<div>\n",
       "<style scoped>\n",
       "    .dataframe tbody tr th:only-of-type {\n",
       "        vertical-align: middle;\n",
       "    }\n",
       "\n",
       "    .dataframe tbody tr th {\n",
       "        vertical-align: top;\n",
       "    }\n",
       "\n",
       "    .dataframe thead th {\n",
       "        text-align: right;\n",
       "    }\n",
       "</style>\n",
       "<table border=\"1\" class=\"dataframe\">\n",
       "  <thead>\n",
       "    <tr style=\"text-align: right;\">\n",
       "      <th></th>\n",
       "      <th>index</th>\n",
       "      <th>X</th>\n",
       "      <th>Y</th>\n",
       "      <th>date</th>\n",
       "      <th>municipality_code</th>\n",
       "      <th>municipality_name</th>\n",
       "      <th>active_cases</th>\n",
       "      <th>confirmed_cases</th>\n",
       "      <th>recovered_cases</th>\n",
       "      <th>deaths</th>\n",
       "      <th>other_deaths</th>\n",
       "      <th>confirmed_cases_cumulative</th>\n",
       "      <th>recovered_cases_cumulative</th>\n",
       "      <th>deaths_cumulative</th>\n",
       "      <th>other_deaths_cumulative</th>\n",
       "      <th>object_id</th>\n",
       "      <th>geom</th>\n",
       "      <th>yearmonth</th>\n",
       "      <th>yearweek</th>\n",
       "      <th>group</th>\n",
       "    </tr>\n",
       "  </thead>\n",
       "  <tbody>\n",
       "    <tr>\n",
       "      <th>0</th>\n",
       "      <td>571</td>\n",
       "      <td>22.822670</td>\n",
       "      <td>56.242281</td>\n",
       "      <td>2020-09-01 00:00:00+00:00</td>\n",
       "      <td>32</td>\n",
       "      <td>Akmenės r. sav.</td>\n",
       "      <td>2</td>\n",
       "      <td>0</td>\n",
       "      <td>0</td>\n",
       "      <td>0</td>\n",
       "      <td>0</td>\n",
       "      <td>7</td>\n",
       "      <td>5</td>\n",
       "      <td>0</td>\n",
       "      <td>0</td>\n",
       "      <td>2144</td>\n",
       "      <td>NaN</td>\n",
       "      <td>2020-09-01</td>\n",
       "      <td>2020-w35</td>\n",
       "      <td>Other</td>\n",
       "    </tr>\n",
       "    <tr>\n",
       "      <th>1</th>\n",
       "      <td>572</td>\n",
       "      <td>22.822670</td>\n",
       "      <td>56.242281</td>\n",
       "      <td>2020-09-02 00:00:00+00:00</td>\n",
       "      <td>32</td>\n",
       "      <td>Akmenės r. sav.</td>\n",
       "      <td>2</td>\n",
       "      <td>0</td>\n",
       "      <td>0</td>\n",
       "      <td>0</td>\n",
       "      <td>0</td>\n",
       "      <td>7</td>\n",
       "      <td>5</td>\n",
       "      <td>0</td>\n",
       "      <td>0</td>\n",
       "      <td>2145</td>\n",
       "      <td>NaN</td>\n",
       "      <td>2020-09-01</td>\n",
       "      <td>2020-w35</td>\n",
       "      <td>Other</td>\n",
       "    </tr>\n",
       "    <tr>\n",
       "      <th>2</th>\n",
       "      <td>573</td>\n",
       "      <td>22.822670</td>\n",
       "      <td>56.242281</td>\n",
       "      <td>2020-09-03 00:00:00+00:00</td>\n",
       "      <td>32</td>\n",
       "      <td>Akmenės r. sav.</td>\n",
       "      <td>2</td>\n",
       "      <td>0</td>\n",
       "      <td>0</td>\n",
       "      <td>0</td>\n",
       "      <td>0</td>\n",
       "      <td>7</td>\n",
       "      <td>5</td>\n",
       "      <td>0</td>\n",
       "      <td>0</td>\n",
       "      <td>2146</td>\n",
       "      <td>NaN</td>\n",
       "      <td>2020-09-01</td>\n",
       "      <td>2020-w35</td>\n",
       "      <td>Other</td>\n",
       "    </tr>\n",
       "    <tr>\n",
       "      <th>3</th>\n",
       "      <td>574</td>\n",
       "      <td>22.822670</td>\n",
       "      <td>56.242281</td>\n",
       "      <td>2020-09-04 00:00:00+00:00</td>\n",
       "      <td>32</td>\n",
       "      <td>Akmenės r. sav.</td>\n",
       "      <td>2</td>\n",
       "      <td>0</td>\n",
       "      <td>0</td>\n",
       "      <td>0</td>\n",
       "      <td>0</td>\n",
       "      <td>7</td>\n",
       "      <td>5</td>\n",
       "      <td>0</td>\n",
       "      <td>0</td>\n",
       "      <td>2147</td>\n",
       "      <td>NaN</td>\n",
       "      <td>2020-09-01</td>\n",
       "      <td>2020-w35</td>\n",
       "      <td>Other</td>\n",
       "    </tr>\n",
       "    <tr>\n",
       "      <th>4</th>\n",
       "      <td>575</td>\n",
       "      <td>22.822670</td>\n",
       "      <td>56.242281</td>\n",
       "      <td>2020-09-05 00:00:00+00:00</td>\n",
       "      <td>32</td>\n",
       "      <td>Akmenės r. sav.</td>\n",
       "      <td>2</td>\n",
       "      <td>0</td>\n",
       "      <td>0</td>\n",
       "      <td>0</td>\n",
       "      <td>0</td>\n",
       "      <td>7</td>\n",
       "      <td>5</td>\n",
       "      <td>0</td>\n",
       "      <td>0</td>\n",
       "      <td>2148</td>\n",
       "      <td>NaN</td>\n",
       "      <td>2020-09-01</td>\n",
       "      <td>2020-w35</td>\n",
       "      <td>Other</td>\n",
       "    </tr>\n",
       "    <tr>\n",
       "      <th>...</th>\n",
       "      <td>...</td>\n",
       "      <td>...</td>\n",
       "      <td>...</td>\n",
       "      <td>...</td>\n",
       "      <td>...</td>\n",
       "      <td>...</td>\n",
       "      <td>...</td>\n",
       "      <td>...</td>\n",
       "      <td>...</td>\n",
       "      <td>...</td>\n",
       "      <td>...</td>\n",
       "      <td>...</td>\n",
       "      <td>...</td>\n",
       "      <td>...</td>\n",
       "      <td>...</td>\n",
       "      <td>...</td>\n",
       "      <td>...</td>\n",
       "      <td>...</td>\n",
       "      <td>...</td>\n",
       "      <td>...</td>\n",
       "    </tr>\n",
       "    <tr>\n",
       "      <th>5790</th>\n",
       "      <td>5505</td>\n",
       "      <td>26.017753</td>\n",
       "      <td>55.114012</td>\n",
       "      <td>2020-11-30 00:00:00+00:00</td>\n",
       "      <td>86</td>\n",
       "      <td>Švenčionių r. sav.</td>\n",
       "      <td>265</td>\n",
       "      <td>4</td>\n",
       "      <td>12</td>\n",
       "      <td>0</td>\n",
       "      <td>0</td>\n",
       "      <td>627</td>\n",
       "      <td>352</td>\n",
       "      <td>2</td>\n",
       "      <td>8</td>\n",
       "      <td>17860</td>\n",
       "      <td>NaN</td>\n",
       "      <td>2020-11-01</td>\n",
       "      <td>2020-w48</td>\n",
       "      <td>Other</td>\n",
       "    </tr>\n",
       "    <tr>\n",
       "      <th>5791</th>\n",
       "      <td>5506</td>\n",
       "      <td>26.017753</td>\n",
       "      <td>55.114012</td>\n",
       "      <td>2020-12-01 00:00:00+00:00</td>\n",
       "      <td>86</td>\n",
       "      <td>Švenčionių r. sav.</td>\n",
       "      <td>257</td>\n",
       "      <td>14</td>\n",
       "      <td>21</td>\n",
       "      <td>0</td>\n",
       "      <td>1</td>\n",
       "      <td>641</td>\n",
       "      <td>373</td>\n",
       "      <td>2</td>\n",
       "      <td>9</td>\n",
       "      <td>17861</td>\n",
       "      <td>NaN</td>\n",
       "      <td>2020-12-01</td>\n",
       "      <td>2020-w48</td>\n",
       "      <td>Other</td>\n",
       "    </tr>\n",
       "    <tr>\n",
       "      <th>5792</th>\n",
       "      <td>5507</td>\n",
       "      <td>26.017753</td>\n",
       "      <td>55.114012</td>\n",
       "      <td>2020-12-02 00:00:00+00:00</td>\n",
       "      <td>86</td>\n",
       "      <td>Švenčionių r. sav.</td>\n",
       "      <td>261</td>\n",
       "      <td>14</td>\n",
       "      <td>10</td>\n",
       "      <td>0</td>\n",
       "      <td>0</td>\n",
       "      <td>655</td>\n",
       "      <td>383</td>\n",
       "      <td>2</td>\n",
       "      <td>9</td>\n",
       "      <td>17862</td>\n",
       "      <td>NaN</td>\n",
       "      <td>2020-12-01</td>\n",
       "      <td>2020-w48</td>\n",
       "      <td>Other</td>\n",
       "    </tr>\n",
       "    <tr>\n",
       "      <th>5793</th>\n",
       "      <td>5508</td>\n",
       "      <td>26.017753</td>\n",
       "      <td>55.114012</td>\n",
       "      <td>2020-12-03 00:00:00+00:00</td>\n",
       "      <td>86</td>\n",
       "      <td>Švenčionių r. sav.</td>\n",
       "      <td>257</td>\n",
       "      <td>3</td>\n",
       "      <td>7</td>\n",
       "      <td>0</td>\n",
       "      <td>0</td>\n",
       "      <td>658</td>\n",
       "      <td>390</td>\n",
       "      <td>2</td>\n",
       "      <td>9</td>\n",
       "      <td>17863</td>\n",
       "      <td>NaN</td>\n",
       "      <td>2020-12-01</td>\n",
       "      <td>2020-w48</td>\n",
       "      <td>Other</td>\n",
       "    </tr>\n",
       "    <tr>\n",
       "      <th>5794</th>\n",
       "      <td>5509</td>\n",
       "      <td>26.017753</td>\n",
       "      <td>55.114012</td>\n",
       "      <td>2020-12-04 00:00:00+00:00</td>\n",
       "      <td>86</td>\n",
       "      <td>Švenčionių r. sav.</td>\n",
       "      <td>264</td>\n",
       "      <td>25</td>\n",
       "      <td>18</td>\n",
       "      <td>0</td>\n",
       "      <td>0</td>\n",
       "      <td>683</td>\n",
       "      <td>408</td>\n",
       "      <td>2</td>\n",
       "      <td>9</td>\n",
       "      <td>17864</td>\n",
       "      <td>NaN</td>\n",
       "      <td>2020-12-01</td>\n",
       "      <td>2020-w48</td>\n",
       "      <td>Other</td>\n",
       "    </tr>\n",
       "  </tbody>\n",
       "</table>\n",
       "<p>5795 rows × 20 columns</p>\n",
       "</div>"
      ],
      "text/plain": [
       "      index          X          Y                      date municipality_code  \\\n",
       "0       571  22.822670  56.242281 2020-09-01 00:00:00+00:00                32   \n",
       "1       572  22.822670  56.242281 2020-09-02 00:00:00+00:00                32   \n",
       "2       573  22.822670  56.242281 2020-09-03 00:00:00+00:00                32   \n",
       "3       574  22.822670  56.242281 2020-09-04 00:00:00+00:00                32   \n",
       "4       575  22.822670  56.242281 2020-09-05 00:00:00+00:00                32   \n",
       "...     ...        ...        ...                       ...               ...   \n",
       "5790   5505  26.017753  55.114012 2020-11-30 00:00:00+00:00                86   \n",
       "5791   5506  26.017753  55.114012 2020-12-01 00:00:00+00:00                86   \n",
       "5792   5507  26.017753  55.114012 2020-12-02 00:00:00+00:00                86   \n",
       "5793   5508  26.017753  55.114012 2020-12-03 00:00:00+00:00                86   \n",
       "5794   5509  26.017753  55.114012 2020-12-04 00:00:00+00:00                86   \n",
       "\n",
       "       municipality_name  active_cases  confirmed_cases  recovered_cases  \\\n",
       "0        Akmenės r. sav.             2                0                0   \n",
       "1        Akmenės r. sav.             2                0                0   \n",
       "2        Akmenės r. sav.             2                0                0   \n",
       "3        Akmenės r. sav.             2                0                0   \n",
       "4        Akmenės r. sav.             2                0                0   \n",
       "...                  ...           ...              ...              ...   \n",
       "5790  Švenčionių r. sav.           265                4               12   \n",
       "5791  Švenčionių r. sav.           257               14               21   \n",
       "5792  Švenčionių r. sav.           261               14               10   \n",
       "5793  Švenčionių r. sav.           257                3                7   \n",
       "5794  Švenčionių r. sav.           264               25               18   \n",
       "\n",
       "      deaths  other_deaths  confirmed_cases_cumulative  \\\n",
       "0          0             0                           7   \n",
       "1          0             0                           7   \n",
       "2          0             0                           7   \n",
       "3          0             0                           7   \n",
       "4          0             0                           7   \n",
       "...      ...           ...                         ...   \n",
       "5790       0             0                         627   \n",
       "5791       0             1                         641   \n",
       "5792       0             0                         655   \n",
       "5793       0             0                         658   \n",
       "5794       0             0                         683   \n",
       "\n",
       "      recovered_cases_cumulative  deaths_cumulative  other_deaths_cumulative  \\\n",
       "0                              5                  0                        0   \n",
       "1                              5                  0                        0   \n",
       "2                              5                  0                        0   \n",
       "3                              5                  0                        0   \n",
       "4                              5                  0                        0   \n",
       "...                          ...                ...                      ...   \n",
       "5790                         352                  2                        8   \n",
       "5791                         373                  2                        9   \n",
       "5792                         383                  2                        9   \n",
       "5793                         390                  2                        9   \n",
       "5794                         408                  2                        9   \n",
       "\n",
       "      object_id  geom  yearmonth  yearweek  group  \n",
       "0          2144   NaN 2020-09-01  2020-w35  Other  \n",
       "1          2145   NaN 2020-09-01  2020-w35  Other  \n",
       "2          2146   NaN 2020-09-01  2020-w35  Other  \n",
       "3          2147   NaN 2020-09-01  2020-w35  Other  \n",
       "4          2148   NaN 2020-09-01  2020-w35  Other  \n",
       "...         ...   ...        ...       ...    ...  \n",
       "5790      17860   NaN 2020-11-01  2020-w48  Other  \n",
       "5791      17861   NaN 2020-12-01  2020-w48  Other  \n",
       "5792      17862   NaN 2020-12-01  2020-w48  Other  \n",
       "5793      17863   NaN 2020-12-01  2020-w48  Other  \n",
       "5794      17864   NaN 2020-12-01  2020-w48  Other  \n",
       "\n",
       "[5795 rows x 20 columns]"
      ]
     },
     "execution_count": 162,
     "metadata": {},
     "output_type": "execute_result"
    }
   ],
   "source": [
    "df"
   ]
  },
  {
   "cell_type": "code",
   "execution_count": 134,
   "metadata": {},
   "outputs": [],
   "source": [
    "df = df[df['date']>='2020-09-01']"
   ]
  },
  {
   "cell_type": "code",
   "execution_count": null,
   "metadata": {},
   "outputs": [],
   "source": [
    "df"
   ]
  },
  {
   "cell_type": "code",
   "execution_count": 31,
   "metadata": {},
   "outputs": [],
   "source": [
    "! output\\cases.xlsx"
   ]
  },
  {
   "cell_type": "code",
   "execution_count": 19,
   "metadata": {},
   "outputs": [
    {
     "data": {
      "text/html": [
       "<div>\n",
       "<style scoped>\n",
       "    .dataframe tbody tr th:only-of-type {\n",
       "        vertical-align: middle;\n",
       "    }\n",
       "\n",
       "    .dataframe tbody tr th {\n",
       "        vertical-align: top;\n",
       "    }\n",
       "\n",
       "    .dataframe thead th {\n",
       "        text-align: right;\n",
       "    }\n",
       "</style>\n",
       "<table border=\"1\" class=\"dataframe\">\n",
       "  <thead>\n",
       "    <tr style=\"text-align: right;\">\n",
       "      <th></th>\n",
       "      <th>X</th>\n",
       "      <th>Y</th>\n",
       "      <th>date</th>\n",
       "      <th>municipality_code</th>\n",
       "      <th>municipality_name</th>\n",
       "      <th>active_cases</th>\n",
       "      <th>confirmed_cases</th>\n",
       "      <th>recovered_cases</th>\n",
       "      <th>deaths</th>\n",
       "      <th>other_deaths</th>\n",
       "      <th>confirmed_cases_cumulative</th>\n",
       "      <th>recovered_cases_cumulative</th>\n",
       "      <th>deaths_cumulative</th>\n",
       "      <th>other_deaths_cumulative</th>\n",
       "      <th>object_id</th>\n",
       "      <th>geom</th>\n",
       "      <th>yearmonth</th>\n",
       "    </tr>\n",
       "  </thead>\n",
       "  <tbody>\n",
       "    <tr>\n",
       "      <th>18783</th>\n",
       "      <td>23.214838</td>\n",
       "      <td>55.384422</td>\n",
       "      <td>2020-11-30 00:00:00+00:00</td>\n",
       "      <td>72</td>\n",
       "      <td>Raseinių r. sav.</td>\n",
       "      <td>466</td>\n",
       "      <td>1</td>\n",
       "      <td>9</td>\n",
       "      <td>0</td>\n",
       "      <td>2</td>\n",
       "      <td>1314</td>\n",
       "      <td>812</td>\n",
       "      <td>28</td>\n",
       "      <td>8</td>\n",
       "      <td>18784</td>\n",
       "      <td>NaN</td>\n",
       "      <td>2020-11-01</td>\n",
       "    </tr>\n",
       "    <tr>\n",
       "      <th>18784</th>\n",
       "      <td>23.214838</td>\n",
       "      <td>55.384422</td>\n",
       "      <td>2020-12-01 00:00:00+00:00</td>\n",
       "      <td>72</td>\n",
       "      <td>Raseinių r. sav.</td>\n",
       "      <td>498</td>\n",
       "      <td>47</td>\n",
       "      <td>14</td>\n",
       "      <td>1</td>\n",
       "      <td>0</td>\n",
       "      <td>1361</td>\n",
       "      <td>826</td>\n",
       "      <td>29</td>\n",
       "      <td>8</td>\n",
       "      <td>18785</td>\n",
       "      <td>NaN</td>\n",
       "      <td>2020-12-01</td>\n",
       "    </tr>\n",
       "    <tr>\n",
       "      <th>18785</th>\n",
       "      <td>23.214838</td>\n",
       "      <td>55.384422</td>\n",
       "      <td>2020-12-02 00:00:00+00:00</td>\n",
       "      <td>72</td>\n",
       "      <td>Raseinių r. sav.</td>\n",
       "      <td>485</td>\n",
       "      <td>17</td>\n",
       "      <td>28</td>\n",
       "      <td>1</td>\n",
       "      <td>1</td>\n",
       "      <td>1378</td>\n",
       "      <td>854</td>\n",
       "      <td>30</td>\n",
       "      <td>9</td>\n",
       "      <td>18786</td>\n",
       "      <td>NaN</td>\n",
       "      <td>2020-12-01</td>\n",
       "    </tr>\n",
       "    <tr>\n",
       "      <th>18786</th>\n",
       "      <td>23.214838</td>\n",
       "      <td>55.384422</td>\n",
       "      <td>2020-12-03 00:00:00+00:00</td>\n",
       "      <td>72</td>\n",
       "      <td>Raseinių r. sav.</td>\n",
       "      <td>487</td>\n",
       "      <td>30</td>\n",
       "      <td>28</td>\n",
       "      <td>0</td>\n",
       "      <td>0</td>\n",
       "      <td>1408</td>\n",
       "      <td>882</td>\n",
       "      <td>30</td>\n",
       "      <td>9</td>\n",
       "      <td>18787</td>\n",
       "      <td>NaN</td>\n",
       "      <td>2020-12-01</td>\n",
       "    </tr>\n",
       "    <tr>\n",
       "      <th>18787</th>\n",
       "      <td>23.214838</td>\n",
       "      <td>55.384422</td>\n",
       "      <td>2020-12-04 00:00:00+00:00</td>\n",
       "      <td>72</td>\n",
       "      <td>Raseinių r. sav.</td>\n",
       "      <td>479</td>\n",
       "      <td>30</td>\n",
       "      <td>38</td>\n",
       "      <td>0</td>\n",
       "      <td>0</td>\n",
       "      <td>1438</td>\n",
       "      <td>920</td>\n",
       "      <td>30</td>\n",
       "      <td>9</td>\n",
       "      <td>18788</td>\n",
       "      <td>NaN</td>\n",
       "      <td>2020-12-01</td>\n",
       "    </tr>\n",
       "  </tbody>\n",
       "</table>\n",
       "</div>"
      ],
      "text/plain": [
       "               X          Y                      date municipality_code  \\\n",
       "18783  23.214838  55.384422 2020-11-30 00:00:00+00:00                72   \n",
       "18784  23.214838  55.384422 2020-12-01 00:00:00+00:00                72   \n",
       "18785  23.214838  55.384422 2020-12-02 00:00:00+00:00                72   \n",
       "18786  23.214838  55.384422 2020-12-03 00:00:00+00:00                72   \n",
       "18787  23.214838  55.384422 2020-12-04 00:00:00+00:00                72   \n",
       "\n",
       "      municipality_name  active_cases  confirmed_cases  recovered_cases  \\\n",
       "18783  Raseinių r. sav.           466                1                9   \n",
       "18784  Raseinių r. sav.           498               47               14   \n",
       "18785  Raseinių r. sav.           485               17               28   \n",
       "18786  Raseinių r. sav.           487               30               28   \n",
       "18787  Raseinių r. sav.           479               30               38   \n",
       "\n",
       "       deaths  other_deaths  confirmed_cases_cumulative  \\\n",
       "18783       0             2                        1314   \n",
       "18784       1             0                        1361   \n",
       "18785       1             1                        1378   \n",
       "18786       0             0                        1408   \n",
       "18787       0             0                        1438   \n",
       "\n",
       "       recovered_cases_cumulative  deaths_cumulative  other_deaths_cumulative  \\\n",
       "18783                         812                 28                        8   \n",
       "18784                         826                 29                        8   \n",
       "18785                         854                 30                        9   \n",
       "18786                         882                 30                        9   \n",
       "18787                         920                 30                        9   \n",
       "\n",
       "       object_id  geom  yearmonth  \n",
       "18783      18784   NaN 2020-11-01  \n",
       "18784      18785   NaN 2020-12-01  \n",
       "18785      18786   NaN 2020-12-01  \n",
       "18786      18787   NaN 2020-12-01  \n",
       "18787      18788   NaN 2020-12-01  "
      ]
     },
     "execution_count": 19,
     "metadata": {},
     "output_type": "execute_result"
    }
   ],
   "source": [
    "df.tail()"
   ]
  },
  {
   "cell_type": "code",
   "execution_count": 7,
   "metadata": {},
   "outputs": [
    {
     "data": {
      "text/html": [
       "<div>\n",
       "<style scoped>\n",
       "    .dataframe tbody tr th:only-of-type {\n",
       "        vertical-align: middle;\n",
       "    }\n",
       "\n",
       "    .dataframe tbody tr th {\n",
       "        vertical-align: top;\n",
       "    }\n",
       "\n",
       "    .dataframe thead th {\n",
       "        text-align: right;\n",
       "    }\n",
       "</style>\n",
       "<table border=\"1\" class=\"dataframe\">\n",
       "  <thead>\n",
       "    <tr style=\"text-align: right;\">\n",
       "      <th></th>\n",
       "      <th>X</th>\n",
       "      <th>Y</th>\n",
       "      <th>active_cases</th>\n",
       "      <th>confirmed_cases</th>\n",
       "      <th>recovered_cases</th>\n",
       "      <th>deaths</th>\n",
       "      <th>other_deaths</th>\n",
       "      <th>confirmed_cases_cumulative</th>\n",
       "      <th>recovered_cases_cumulative</th>\n",
       "      <th>deaths_cumulative</th>\n",
       "      <th>other_deaths_cumulative</th>\n",
       "      <th>object_id</th>\n",
       "      <th>geom</th>\n",
       "    </tr>\n",
       "  </thead>\n",
       "  <tbody>\n",
       "    <tr>\n",
       "      <th>count</th>\n",
       "      <td>18480.000000</td>\n",
       "      <td>18480.000000</td>\n",
       "      <td>18788.000000</td>\n",
       "      <td>18788.000000</td>\n",
       "      <td>18788.000000</td>\n",
       "      <td>18788.000000</td>\n",
       "      <td>18788.000000</td>\n",
       "      <td>18788.000000</td>\n",
       "      <td>18788.000000</td>\n",
       "      <td>18788.000000</td>\n",
       "      <td>18788.000000</td>\n",
       "      <td>18788.000000</td>\n",
       "      <td>0.0</td>\n",
       "    </tr>\n",
       "    <tr>\n",
       "      <th>mean</th>\n",
       "      <td>23.720470</td>\n",
       "      <td>55.302255</td>\n",
       "      <td>61.540717</td>\n",
       "      <td>3.855120</td>\n",
       "      <td>1.611507</td>\n",
       "      <td>0.032521</td>\n",
       "      <td>0.016926</td>\n",
       "      <td>108.983287</td>\n",
       "      <td>45.521131</td>\n",
       "      <td>1.499627</td>\n",
       "      <td>0.421865</td>\n",
       "      <td>9394.500000</td>\n",
       "      <td>NaN</td>\n",
       "    </tr>\n",
       "    <tr>\n",
       "      <th>std</th>\n",
       "      <td>1.404551</td>\n",
       "      <td>0.611162</td>\n",
       "      <td>326.242713</td>\n",
       "      <td>19.900519</td>\n",
       "      <td>11.786856</td>\n",
       "      <td>0.237211</td>\n",
       "      <td>0.225653</td>\n",
       "      <td>528.478334</td>\n",
       "      <td>205.845643</td>\n",
       "      <td>4.419245</td>\n",
       "      <td>1.887820</td>\n",
       "      <td>5423.772764</td>\n",
       "      <td>NaN</td>\n",
       "    </tr>\n",
       "    <tr>\n",
       "      <th>min</th>\n",
       "      <td>21.090206</td>\n",
       "      <td>54.019684</td>\n",
       "      <td>0.000000</td>\n",
       "      <td>0.000000</td>\n",
       "      <td>0.000000</td>\n",
       "      <td>0.000000</td>\n",
       "      <td>0.000000</td>\n",
       "      <td>0.000000</td>\n",
       "      <td>0.000000</td>\n",
       "      <td>0.000000</td>\n",
       "      <td>0.000000</td>\n",
       "      <td>1.000000</td>\n",
       "      <td>NaN</td>\n",
       "    </tr>\n",
       "    <tr>\n",
       "      <th>25%</th>\n",
       "      <td>22.855878</td>\n",
       "      <td>54.777815</td>\n",
       "      <td>0.000000</td>\n",
       "      <td>0.000000</td>\n",
       "      <td>0.000000</td>\n",
       "      <td>0.000000</td>\n",
       "      <td>0.000000</td>\n",
       "      <td>1.000000</td>\n",
       "      <td>0.000000</td>\n",
       "      <td>0.000000</td>\n",
       "      <td>0.000000</td>\n",
       "      <td>4697.750000</td>\n",
       "      <td>NaN</td>\n",
       "    </tr>\n",
       "    <tr>\n",
       "      <th>50%</th>\n",
       "      <td>23.843363</td>\n",
       "      <td>55.377974</td>\n",
       "      <td>1.000000</td>\n",
       "      <td>0.000000</td>\n",
       "      <td>0.000000</td>\n",
       "      <td>0.000000</td>\n",
       "      <td>0.000000</td>\n",
       "      <td>7.000000</td>\n",
       "      <td>5.000000</td>\n",
       "      <td>0.000000</td>\n",
       "      <td>0.000000</td>\n",
       "      <td>9394.500000</td>\n",
       "      <td>NaN</td>\n",
       "    </tr>\n",
       "    <tr>\n",
       "      <th>75%</th>\n",
       "      <td>24.765178</td>\n",
       "      <td>55.758910</td>\n",
       "      <td>10.000000</td>\n",
       "      <td>0.000000</td>\n",
       "      <td>0.000000</td>\n",
       "      <td>0.000000</td>\n",
       "      <td>0.000000</td>\n",
       "      <td>34.000000</td>\n",
       "      <td>18.000000</td>\n",
       "      <td>1.000000</td>\n",
       "      <td>0.000000</td>\n",
       "      <td>14091.250000</td>\n",
       "      <td>NaN</td>\n",
       "    </tr>\n",
       "    <tr>\n",
       "      <th>max</th>\n",
       "      <td>26.487078</td>\n",
       "      <td>56.267711</td>\n",
       "      <td>7822.000000</td>\n",
       "      <td>540.000000</td>\n",
       "      <td>380.000000</td>\n",
       "      <td>8.000000</td>\n",
       "      <td>17.000000</td>\n",
       "      <td>14154.000000</td>\n",
       "      <td>6223.000000</td>\n",
       "      <td>68.000000</td>\n",
       "      <td>43.000000</td>\n",
       "      <td>18788.000000</td>\n",
       "      <td>NaN</td>\n",
       "    </tr>\n",
       "  </tbody>\n",
       "</table>\n",
       "</div>"
      ],
      "text/plain": [
       "                  X             Y  active_cases  confirmed_cases  \\\n",
       "count  18480.000000  18480.000000  18788.000000     18788.000000   \n",
       "mean      23.720470     55.302255     61.540717         3.855120   \n",
       "std        1.404551      0.611162    326.242713        19.900519   \n",
       "min       21.090206     54.019684      0.000000         0.000000   \n",
       "25%       22.855878     54.777815      0.000000         0.000000   \n",
       "50%       23.843363     55.377974      1.000000         0.000000   \n",
       "75%       24.765178     55.758910     10.000000         0.000000   \n",
       "max       26.487078     56.267711   7822.000000       540.000000   \n",
       "\n",
       "       recovered_cases        deaths  other_deaths  \\\n",
       "count     18788.000000  18788.000000  18788.000000   \n",
       "mean          1.611507      0.032521      0.016926   \n",
       "std          11.786856      0.237211      0.225653   \n",
       "min           0.000000      0.000000      0.000000   \n",
       "25%           0.000000      0.000000      0.000000   \n",
       "50%           0.000000      0.000000      0.000000   \n",
       "75%           0.000000      0.000000      0.000000   \n",
       "max         380.000000      8.000000     17.000000   \n",
       "\n",
       "       confirmed_cases_cumulative  recovered_cases_cumulative  \\\n",
       "count                18788.000000                18788.000000   \n",
       "mean                   108.983287                   45.521131   \n",
       "std                    528.478334                  205.845643   \n",
       "min                      0.000000                    0.000000   \n",
       "25%                      1.000000                    0.000000   \n",
       "50%                      7.000000                    5.000000   \n",
       "75%                     34.000000                   18.000000   \n",
       "max                  14154.000000                 6223.000000   \n",
       "\n",
       "       deaths_cumulative  other_deaths_cumulative     object_id  geom  \n",
       "count       18788.000000             18788.000000  18788.000000   0.0  \n",
       "mean            1.499627                 0.421865   9394.500000   NaN  \n",
       "std             4.419245                 1.887820   5423.772764   NaN  \n",
       "min             0.000000                 0.000000      1.000000   NaN  \n",
       "25%             0.000000                 0.000000   4697.750000   NaN  \n",
       "50%             0.000000                 0.000000   9394.500000   NaN  \n",
       "75%             1.000000                 0.000000  14091.250000   NaN  \n",
       "max            68.000000                43.000000  18788.000000   NaN  "
      ]
     },
     "execution_count": 7,
     "metadata": {},
     "output_type": "execute_result"
    }
   ],
   "source": [
    "df.describe()"
   ]
  },
  {
   "cell_type": "code",
   "execution_count": 9,
   "metadata": {},
   "outputs": [
    {
     "name": "stdout",
     "output_type": "stream",
     "text": [
      "<class 'pandas.core.frame.DataFrame'>\n",
      "RangeIndex: 18788 entries, 0 to 18787\n",
      "Data columns (total 16 columns):\n",
      " #   Column                      Non-Null Count  Dtype  \n",
      "---  ------                      --------------  -----  \n",
      " 0   X                           18480 non-null  float64\n",
      " 1   Y                           18480 non-null  float64\n",
      " 2   date                        18788 non-null  object \n",
      " 3   municipality_code           18788 non-null  object \n",
      " 4   municipality_name           18788 non-null  object \n",
      " 5   active_cases                18788 non-null  int64  \n",
      " 6   confirmed_cases             18788 non-null  int64  \n",
      " 7   recovered_cases             18788 non-null  int64  \n",
      " 8   deaths                      18788 non-null  int64  \n",
      " 9   other_deaths                18788 non-null  int64  \n",
      " 10  confirmed_cases_cumulative  18788 non-null  int64  \n",
      " 11  recovered_cases_cumulative  18788 non-null  int64  \n",
      " 12  deaths_cumulative           18788 non-null  int64  \n",
      " 13  other_deaths_cumulative     18788 non-null  int64  \n",
      " 14  object_id                   18788 non-null  int64  \n",
      " 15  geom                        0 non-null      float64\n",
      "dtypes: float64(3), int64(10), object(3)\n",
      "memory usage: 2.3+ MB\n"
     ]
    }
   ],
   "source": [
    "df.info()"
   ]
  },
  {
   "cell_type": "markdown",
   "metadata": {},
   "source": [
    "## EDA"
   ]
  },
  {
   "cell_type": "code",
   "execution_count": 135,
   "metadata": {},
   "outputs": [],
   "source": [
    "import seaborn as sns\n",
    "import matplotlib.pyplot as plt\n",
    "%matplotlib inline"
   ]
  },
  {
   "cell_type": "code",
   "execution_count": 136,
   "metadata": {},
   "outputs": [],
   "source": [
    "date_range = 'from ' + str(min(df.yearmonth)).split(' ')[0] + ' to ' + str(max(df.yearmonth)).split(' ')[0]"
   ]
  },
  {
   "cell_type": "code",
   "execution_count": 137,
   "metadata": {},
   "outputs": [],
   "source": [
    "top_cases = df.pivot_table(index='municipality_name', \n",
    "                           values='confirmed_cases', \n",
    "                           aggfunc='sum').sort_values(by='confirmed_cases',ascending=False).reset_index()\n",
    "\n",
    "def grouping(index, name):\n",
    "    if index > 9:\n",
    "        return 'Other'\n",
    "    else:\n",
    "        return name\n",
    "\n",
    "top_cases = top_cases.reset_index()\n",
    "top_cases['group'] = top_cases.apply(lambda x: grouping(x['index'],x['municipality_name']),axis=1)"
   ]
  },
  {
   "cell_type": "code",
   "execution_count": 138,
   "metadata": {},
   "outputs": [],
   "source": [
    "df = df.merge(top_cases[['municipality_name', 'group']], left_on='municipality_name', right_on='municipality_name', how='left')"
   ]
  },
  {
   "cell_type": "code",
   "execution_count": 139,
   "metadata": {},
   "outputs": [],
   "source": [
    "df.to_csv(f'data\\df{date_range}.csv')"
   ]
  },
  {
   "cell_type": "code",
   "execution_count": 177,
   "metadata": {},
   "outputs": [
    {
     "data": {
      "image/png": "[encoded data removed]",
      "text/plain": [
       "<Figure size 1008x432 with 1 Axes>"
      ]
     },
     "metadata": {
      "needs_background": "light"
     },
     "output_type": "display_data"
    }
   ],
   "source": [
    "plot_df = df\n",
    "plot_y = 'delta_confirmed_cases'\n",
    "#plot_y = 'confirmed_cases'\n",
    "#plot_x = 'yearmonth'\n",
    "plot_x = 'yearweek'\n",
    "plot_hue='group'\n",
    "\n",
    "plt.figure(figsize=(14,6))\n",
    "\n",
    "# Add title\n",
    "plt.title(f\"Monthly Covid confirmed cases in Lithuania {date_range}\")\n",
    "\n",
    "sns.lineplot(x=plot_df[plot_x], y=plot_df[plot_y] , hue=plot_df[plot_hue])\n",
    "\n",
    "plt.savefig(f'output\\lineplot{date_range}.png')"
   ]
  },
  {
   "cell_type": "code",
   "execution_count": 80,
   "metadata": {},
   "outputs": [
    {
     "name": "stdout",
     "output_type": "stream",
     "text": [
      "Collecting plotly\n",
      "  Downloading plotly-4.13.0-py2.py3-none-any.whl (13.1 MB)\n",
      "Collecting retrying>=1.3.3\n",
      "  Downloading retrying-1.3.3.tar.gz (10 kB)\n",
      "Requirement already satisfied: six in c:\\users\\lenovo\\anaconda3\\lib\\site-packages (from plotly) (1.15.0)\n",
      "Building wheels for collected packages: retrying\n",
      "  Building wheel for retrying (setup.py): started\n",
      "  Building wheel for retrying (setup.py): finished with status 'done'\n",
      "  Created wheel for retrying: filename=retrying-1.3.3-py3-none-any.whl size=11434 sha256=7740f9101c555d91ef6f175706365db04eab00134db772f7ca604b49391fb581\n",
      "  Stored in directory: c:\\users\\lenovo\\appdata\\local\\pip\\cache\\wheels\\c4\\a7\\48\\0a434133f6d56e878ca511c0e6c38326907c0792f67b476e56\n",
      "Successfully built retrying\n",
      "Installing collected packages: retrying, plotly\n",
      "Successfully installed plotly-4.13.0 retrying-1.3.3\n"
     ]
    }
   ],
   "source": [
    "!pip install plotly"
   ]
  },
  {
   "cell_type": "code",
   "execution_count": 190,
   "metadata": {
    "scrolled": true
   },
   "outputs": [
    {
     "data": {
      "application/vnd.plotly.v1+json": {
       "config": {
        "plotlyServerURL": "https://plot.ly"
       },
       "data": [
        {
         "hovertemplate": "group=Kauno m. sav.<br>yearweek=%{x}<br>delta_confirmed_cases=%{y}<extra></extra>",
         "legendgroup": "Kauno m. sav.",
         "line": {
          "color": "#636efa",
          "dash": "solid"
         },
         "mode": "lines",
         "name": "Kauno m. sav.",
         "orientation": "v",
         "showlegend": true,
         "type": "scatter",
         "x": [
          "2020-w35",
          "2020-w36",
          "2020-w37",
          "2020-w38",
          "2020-w39",
          "2020-w40",
          "2020-w41",
          "2020-w42",
          "2020-w43",
          "2020-w44",
          "2020-w45",
          "2020-w46",
          "2020-w47",
          "2020-w48"
         ],
         "xaxis": "x",
         "y": [
          1,
          -1,
          8,
          2,
          -3,
          8,
          3,
          62,
          0,
          129,
          -111,
          111,
          -40,
          355
         ],
         "yaxis": "y"
        },
        {
         "hovertemplate": "group=Kauno r. sav.<br>yearweek=%{x}<br>delta_confirmed_cases=%{y}<extra></extra>",
         "legendgroup": "Kauno r. sav.",
         "line": {
          "color": "#EF553B",
          "dash": "solid"
         },
         "mode": "lines",
         "name": "Kauno r. sav.",
         "orientation": "v",
         "showlegend": true,
         "type": "scatter",
         "x": [
          "2020-w35",
          "2020-w36",
          "2020-w37",
          "2020-w38",
          "2020-w39",
          "2020-w40",
          "2020-w41",
          "2020-w42",
          "2020-w43",
          "2020-w44",
          "2020-w45",
          "2020-w46",
          "2020-w47",
          "2020-w48"
         ],
         "xaxis": "x",
         "y": [
          0,
          -1,
          1,
          0,
          2,
          -2,
          6,
          20,
          -1,
          56,
          -40,
          22,
          9,
          27
         ],
         "yaxis": "y"
        },
        {
         "hovertemplate": "group=Klaipėdos m. sav.<br>yearweek=%{x}<br>delta_confirmed_cases=%{y}<extra></extra>",
         "legendgroup": "Klaipėdos m. sav.",
         "line": {
          "color": "#00cc96",
          "dash": "solid"
         },
         "mode": "lines",
         "name": "Klaipėdos m. sav.",
         "orientation": "v",
         "showlegend": true,
         "type": "scatter",
         "x": [
          "2020-w35",
          "2020-w36",
          "2020-w37",
          "2020-w38",
          "2020-w39",
          "2020-w40",
          "2020-w41",
          "2020-w42",
          "2020-w43",
          "2020-w44",
          "2020-w45",
          "2020-w46",
          "2020-w47",
          "2020-w48"
         ],
         "xaxis": "x",
         "y": [
          0,
          5,
          -1,
          -4,
          4,
          -1,
          23,
          8,
          69,
          126,
          -119,
          47,
          -27,
          -22
         ],
         "yaxis": "y"
        },
        {
         "hovertemplate": "group=Klaipėdos r. sav.<br>yearweek=%{x}<br>delta_confirmed_cases=%{y}<extra></extra>",
         "legendgroup": "Klaipėdos r. sav.",
         "line": {
          "color": "#ab63fa",
          "dash": "solid"
         },
         "mode": "lines",
         "name": "Klaipėdos r. sav.",
         "orientation": "v",
         "showlegend": true,
         "type": "scatter",
         "x": [
          "2020-w35",
          "2020-w36",
          "2020-w37",
          "2020-w38",
          "2020-w39",
          "2020-w40",
          "2020-w41",
          "2020-w42",
          "2020-w43",
          "2020-w44",
          "2020-w45",
          "2020-w46",
          "2020-w47",
          "2020-w48"
         ],
         "xaxis": "x",
         "y": [
          1,
          -2,
          0,
          0,
          0,
          1,
          3,
          16,
          14,
          42,
          -36,
          5,
          19,
          -28
         ],
         "yaxis": "y"
        },
        {
         "hovertemplate": "group=Kėdainių r. sav.<br>yearweek=%{x}<br>delta_confirmed_cases=%{y}<extra></extra>",
         "legendgroup": "Kėdainių r. sav.",
         "line": {
          "color": "#FFA15A",
          "dash": "solid"
         },
         "mode": "lines",
         "name": "Kėdainių r. sav.",
         "orientation": "v",
         "showlegend": true,
         "type": "scatter",
         "x": [
          "2020-w35",
          "2020-w36",
          "2020-w37",
          "2020-w38",
          "2020-w39",
          "2020-w40",
          "2020-w41",
          "2020-w42",
          "2020-w43",
          "2020-w44",
          "2020-w45",
          "2020-w46",
          "2020-w47",
          "2020-w48"
         ],
         "xaxis": "x",
         "y": [
          2,
          -2,
          0,
          7,
          -7,
          0,
          0,
          0,
          4,
          20,
          0,
          36,
          38,
          -30
         ],
         "yaxis": "y"
        },
        {
         "hovertemplate": "group=Mažeikių r. sav.<br>yearweek=%{x}<br>delta_confirmed_cases=%{y}<extra></extra>",
         "legendgroup": "Mažeikių r. sav.",
         "line": {
          "color": "#19d3f3",
          "dash": "solid"
         },
         "mode": "lines",
         "name": "Mažeikių r. sav.",
         "orientation": "v",
         "showlegend": true,
         "type": "scatter",
         "x": [
          "2020-w35",
          "2020-w36",
          "2020-w37",
          "2020-w38",
          "2020-w39",
          "2020-w40",
          "2020-w41",
          "2020-w42",
          "2020-w43",
          "2020-w44",
          "2020-w45",
          "2020-w46",
          "2020-w47",
          "2020-w48"
         ],
         "xaxis": "x",
         "y": [
          -1,
          1,
          0,
          2,
          -3,
          0,
          2,
          15,
          15,
          28,
          17,
          3,
          -4,
          -27
         ],
         "yaxis": "y"
        },
        {
         "hovertemplate": "group=Other<br>yearweek=%{x}<br>delta_confirmed_cases=%{y}<extra></extra>",
         "legendgroup": "Other",
         "line": {
          "color": "#FF6692",
          "dash": "solid"
         },
         "mode": "lines",
         "name": "Other",
         "orientation": "v",
         "showlegend": true,
         "type": "scatter",
         "x": [
          "2020-w35",
          "2020-w36",
          "2020-w37",
          "2020-w38",
          "2020-w39",
          "2020-w40",
          "2020-w41",
          "2020-w42",
          "2020-w43",
          "2020-w44",
          "2020-w45",
          "2020-w46",
          "2020-w47",
          "2020-w48"
         ],
         "xaxis": "x",
         "y": [
          0,
          6,
          25,
          -15,
          14,
          39,
          13,
          99,
          115,
          428,
          -138,
          400,
          -148,
          276
         ],
         "yaxis": "y"
        },
        {
         "hovertemplate": "group=Panevėžio m. sav.<br>yearweek=%{x}<br>delta_confirmed_cases=%{y}<extra></extra>",
         "legendgroup": "Panevėžio m. sav.",
         "line": {
          "color": "#B6E880",
          "dash": "solid"
         },
         "mode": "lines",
         "name": "Panevėžio m. sav.",
         "orientation": "v",
         "showlegend": true,
         "type": "scatter",
         "x": [
          "2020-w35",
          "2020-w36",
          "2020-w37",
          "2020-w38",
          "2020-w39",
          "2020-w40",
          "2020-w41",
          "2020-w42",
          "2020-w43",
          "2020-w44",
          "2020-w45",
          "2020-w46",
          "2020-w47",
          "2020-w48"
         ],
         "xaxis": "x",
         "y": [
          -1,
          0,
          2,
          6,
          -8,
          1,
          6,
          -3,
          14,
          54,
          16,
          14,
          -15,
          2
         ],
         "yaxis": "y"
        },
        {
         "hovertemplate": "group=Vilniaus m. sav.<br>yearweek=%{x}<br>delta_confirmed_cases=%{y}<extra></extra>",
         "legendgroup": "Vilniaus m. sav.",
         "line": {
          "color": "#FF97FF",
          "dash": "solid"
         },
         "mode": "lines",
         "name": "Vilniaus m. sav.",
         "orientation": "v",
         "showlegend": true,
         "type": "scatter",
         "x": [
          "2020-w35",
          "2020-w36",
          "2020-w37",
          "2020-w38",
          "2020-w39",
          "2020-w40",
          "2020-w41",
          "2020-w42",
          "2020-w43",
          "2020-w44",
          "2020-w45",
          "2020-w46",
          "2020-w47",
          "2020-w48"
         ],
         "xaxis": "x",
         "y": [
          8,
          -6,
          0,
          9,
          12,
          1,
          48,
          104,
          10,
          206,
          -174,
          213,
          -194,
          297
         ],
         "yaxis": "y"
        },
        {
         "hovertemplate": "group=Vilniaus r. sav.<br>yearweek=%{x}<br>delta_confirmed_cases=%{y}<extra></extra>",
         "legendgroup": "Vilniaus r. sav.",
         "line": {
          "color": "#FECB52",
          "dash": "solid"
         },
         "mode": "lines",
         "name": "Vilniaus r. sav.",
         "orientation": "v",
         "showlegend": true,
         "type": "scatter",
         "x": [
          "2020-w35",
          "2020-w36",
          "2020-w37",
          "2020-w38",
          "2020-w39",
          "2020-w40",
          "2020-w41",
          "2020-w42",
          "2020-w43",
          "2020-w44",
          "2020-w45",
          "2020-w46",
          "2020-w47",
          "2020-w48"
         ],
         "xaxis": "x",
         "y": [
          1,
          1,
          1,
          -1,
          -1,
          3,
          -1,
          13,
          0,
          16,
          8,
          12,
          -6,
          46
         ],
         "yaxis": "y"
        },
        {
         "hovertemplate": "group=Šiaulių m. sav.<br>yearweek=%{x}<br>delta_confirmed_cases=%{y}<extra></extra>",
         "legendgroup": "Šiaulių m. sav.",
         "line": {
          "color": "#636efa",
          "dash": "solid"
         },
         "mode": "lines",
         "name": "Šiaulių m. sav.",
         "orientation": "v",
         "showlegend": true,
         "type": "scatter",
         "x": [
          "2020-w35",
          "2020-w36",
          "2020-w37",
          "2020-w38",
          "2020-w39",
          "2020-w40",
          "2020-w41",
          "2020-w42",
          "2020-w43",
          "2020-w44",
          "2020-w45",
          "2020-w46",
          "2020-w47",
          "2020-w48"
         ],
         "xaxis": "x",
         "y": [
          3,
          -5,
          5,
          5,
          4,
          5,
          -10,
          9,
          47,
          -12,
          -25,
          71,
          29,
          -17
         ],
         "yaxis": "y"
        }
       ],
       "layout": {
        "legend": {
         "title": {
          "text": "group"
         },
         "tracegroupgap": 0
        },
        "margin": {
         "t": 60
        },
        "template": {
         "data": {
          "bar": [
           {
            "error_x": {
             "color": "#2a3f5f"
            },
            "error_y": {
             "color": "#2a3f5f"
            },
            "marker": {
             "line": {
              "color": "#E5ECF6",
              "width": 0.5
             }
            },
            "type": "bar"
           }
          ],
          "barpolar": [
           {
            "marker": {
             "line": {
              "color": "#E5ECF6",
              "width": 0.5
             }
            },
            "type": "barpolar"
           }
          ],
          "carpet": [
           {
            "aaxis": {
             "endlinecolor": "#2a3f5f",
             "gridcolor": "white",
             "linecolor": "white",
             "minorgridcolor": "white",
             "startlinecolor": "#2a3f5f"
            },
            "baxis": {
             "endlinecolor": "#2a3f5f",
             "gridcolor": "white",
             "linecolor": "white",
             "minorgridcolor": "white",
             "startlinecolor": "#2a3f5f"
            },
            "type": "carpet"
           }
          ],
          "choropleth": [
           {
            "colorbar": {
             "outlinewidth": 0,
             "ticks": ""
            },
            "type": "choropleth"
           }
          ],
          "contour": [
           {
            "colorbar": {
             "outlinewidth": 0,
             "ticks": ""
            },
            "colorscale": [
             [
              0,
              "#0d0887"
             ],
             [
              0.1111111111111111,
              "#46039f"
             ],
             [
              0.2222222222222222,
              "#7201a8"
             ],
             [
              0.3333333333333333,
              "#9c179e"
             ],
             [
              0.4444444444444444,
              "#bd3786"
             ],
             [
              0.5555555555555556,
              "#d8576b"
             ],
             [
              0.6666666666666666,
              "#ed7953"
             ],
             [
              0.7777777777777778,
              "#fb9f3a"
             ],
             [
              0.8888888888888888,
              "#fdca26"
             ],
             [
              1,
              "#f0f921"
             ]
            ],
            "type": "contour"
           }
          ],
          "contourcarpet": [
           {
            "colorbar": {
             "outlinewidth": 0,
             "ticks": ""
            },
            "type": "contourcarpet"
           }
          ],
          "heatmap": [
           {
            "colorbar": {
             "outlinewidth": 0,
             "ticks": ""
            },
            "colorscale": [
             [
              0,
              "#0d0887"
             ],
             [
              0.1111111111111111,
              "#46039f"
             ],
             [
              0.2222222222222222,
              "#7201a8"
             ],
             [
              0.3333333333333333,
              "#9c179e"
             ],
             [
              0.4444444444444444,
              "#bd3786"
             ],
             [
              0.5555555555555556,
              "#d8576b"
             ],
             [
              0.6666666666666666,
              "#ed7953"
             ],
             [
              0.7777777777777778,
              "#fb9f3a"
             ],
             [
              0.8888888888888888,
              "#fdca26"
             ],
             [
              1,
              "#f0f921"
             ]
            ],
            "type": "heatmap"
           }
          ],
          "heatmapgl": [
           {
            "colorbar": {
             "outlinewidth": 0,
             "ticks": ""
            },
            "colorscale": [
             [
              0,
              "#0d0887"
             ],
             [
              0.1111111111111111,
              "#46039f"
             ],
             [
              0.2222222222222222,
              "#7201a8"
             ],
             [
              0.3333333333333333,
              "#9c179e"
             ],
             [
              0.4444444444444444,
              "#bd3786"
             ],
             [
              0.5555555555555556,
              "#d8576b"
             ],
             [
              0.6666666666666666,
              "#ed7953"
             ],
             [
              0.7777777777777778,
              "#fb9f3a"
             ],
             [
              0.8888888888888888,
              "#fdca26"
             ],
             [
              1,
              "#f0f921"
             ]
            ],
            "type": "heatmapgl"
           }
          ],
          "histogram": [
           {
            "marker": {
             "colorbar": {
              "outlinewidth": 0,
              "ticks": ""
             }
            },
            "type": "histogram"
           }
          ],
          "histogram2d": [
           {
            "colorbar": {
             "outlinewidth": 0,
             "ticks": ""
            },
            "colorscale": [
             [
              0,
              "#0d0887"
             ],
             [
              0.1111111111111111,
              "#46039f"
             ],
             [
              0.2222222222222222,
              "#7201a8"
             ],
             [
              0.3333333333333333,
              "#9c179e"
             ],
             [
              0.4444444444444444,
              "#bd3786"
             ],
             [
              0.5555555555555556,
              "#d8576b"
             ],
             [
              0.6666666666666666,
              "#ed7953"
             ],
             [
              0.7777777777777778,
              "#fb9f3a"
             ],
             [
              0.8888888888888888,
              "#fdca26"
             ],
             [
              1,
              "#f0f921"
             ]
            ],
            "type": "histogram2d"
           }
          ],
          "histogram2dcontour": [
           {
            "colorbar": {
             "outlinewidth": 0,
             "ticks": ""
            },
            "colorscale": [
             [
              0,
              "#0d0887"
             ],
             [
              0.1111111111111111,
              "#46039f"
             ],
             [
              0.2222222222222222,
              "#7201a8"
             ],
             [
              0.3333333333333333,
              "#9c179e"
             ],
             [
              0.4444444444444444,
              "#bd3786"
             ],
             [
              0.5555555555555556,
              "#d8576b"
             ],
             [
              0.6666666666666666,
              "#ed7953"
             ],
             [
              0.7777777777777778,
              "#fb9f3a"
             ],
             [
              0.8888888888888888,
              "#fdca26"
             ],
             [
              1,
              "#f0f921"
             ]
            ],
            "type": "histogram2dcontour"
           }
          ],
          "mesh3d": [
           {
            "colorbar": {
             "outlinewidth": 0,
             "ticks": ""
            },
            "type": "mesh3d"
           }
          ],
          "parcoords": [
           {
            "line": {
             "colorbar": {
              "outlinewidth": 0,
              "ticks": ""
             }
            },
            "type": "parcoords"
           }
          ],
          "pie": [
           {
            "automargin": true,
            "type": "pie"
           }
          ],
          "scatter": [
           {
            "marker": {
             "colorbar": {
              "outlinewidth": 0,
              "ticks": ""
             }
            },
            "type": "scatter"
           }
          ],
          "scatter3d": [
           {
            "line": {
             "colorbar": {
              "outlinewidth": 0,
              "ticks": ""
             }
            },
            "marker": {
             "colorbar": {
              "outlinewidth": 0,
              "ticks": ""
             }
            },
            "type": "scatter3d"
           }
          ],
          "scattercarpet": [
           {
            "marker": {
             "colorbar": {
              "outlinewidth": 0,
              "ticks": ""
             }
            },
            "type": "scattercarpet"
           }
          ],
          "scattergeo": [
           {
            "marker": {
             "colorbar": {
              "outlinewidth": 0,
              "ticks": ""
             }
            },
            "type": "scattergeo"
           }
          ],
          "scattergl": [
           {
            "marker": {
             "colorbar": {
              "outlinewidth": 0,
              "ticks": ""
             }
            },
            "type": "scattergl"
           }
          ],
          "scattermapbox": [
           {
            "marker": {
             "colorbar": {
              "outlinewidth": 0,
              "ticks": ""
             }
            },
            "type": "scattermapbox"
           }
          ],
          "scatterpolar": [
           {
            "marker": {
             "colorbar": {
              "outlinewidth": 0,
              "ticks": ""
             }
            },
            "type": "scatterpolar"
           }
          ],
          "scatterpolargl": [
           {
            "marker": {
             "colorbar": {
              "outlinewidth": 0,
              "ticks": ""
             }
            },
            "type": "scatterpolargl"
           }
          ],
          "scatterternary": [
           {
            "marker": {
             "colorbar": {
              "outlinewidth": 0,
              "ticks": ""
             }
            },
            "type": "scatterternary"
           }
          ],
          "surface": [
           {
            "colorbar": {
             "outlinewidth": 0,
             "ticks": ""
            },
            "colorscale": [
             [
              0,
              "#0d0887"
             ],
             [
              0.1111111111111111,
              "#46039f"
             ],
             [
              0.2222222222222222,
              "#7201a8"
             ],
             [
              0.3333333333333333,
              "#9c179e"
             ],
             [
              0.4444444444444444,
              "#bd3786"
             ],
             [
              0.5555555555555556,
              "#d8576b"
             ],
             [
              0.6666666666666666,
              "#ed7953"
             ],
             [
              0.7777777777777778,
              "#fb9f3a"
             ],
             [
              0.8888888888888888,
              "#fdca26"
             ],
             [
              1,
              "#f0f921"
             ]
            ],
            "type": "surface"
           }
          ],
          "table": [
           {
            "cells": {
             "fill": {
              "color": "#EBF0F8"
             },
             "line": {
              "color": "white"
             }
            },
            "header": {
             "fill": {
              "color": "#C8D4E3"
             },
             "line": {
              "color": "white"
             }
            },
            "type": "table"
           }
          ]
         },
         "layout": {
          "annotationdefaults": {
           "arrowcolor": "#2a3f5f",
           "arrowhead": 0,
           "arrowwidth": 1
          },
          "coloraxis": {
           "colorbar": {
            "outlinewidth": 0,
            "ticks": ""
           }
          },
          "colorscale": {
           "diverging": [
            [
             0,
             "#8e0152"
            ],
            [
             0.1,
             "#c51b7d"
            ],
            [
             0.2,
             "#de77ae"
            ],
            [
             0.3,
             "#f1b6da"
            ],
            [
             0.4,
             "#fde0ef"
            ],
            [
             0.5,
             "#f7f7f7"
            ],
            [
             0.6,
             "#e6f5d0"
            ],
            [
             0.7,
             "#b8e186"
            ],
            [
             0.8,
             "#7fbc41"
            ],
            [
             0.9,
             "#4d9221"
            ],
            [
             1,
             "#276419"
            ]
           ],
           "sequential": [
            [
             0,
             "#0d0887"
            ],
            [
             0.1111111111111111,
             "#46039f"
            ],
            [
             0.2222222222222222,
             "#7201a8"
            ],
            [
             0.3333333333333333,
             "#9c179e"
            ],
            [
             0.4444444444444444,
             "#bd3786"
            ],
            [
             0.5555555555555556,
             "#d8576b"
            ],
            [
             0.6666666666666666,
             "#ed7953"
            ],
            [
             0.7777777777777778,
             "#fb9f3a"
            ],
            [
             0.8888888888888888,
             "#fdca26"
            ],
            [
             1,
             "#f0f921"
            ]
           ],
           "sequentialminus": [
            [
             0,
             "#0d0887"
            ],
            [
             0.1111111111111111,
             "#46039f"
            ],
            [
             0.2222222222222222,
             "#7201a8"
            ],
            [
             0.3333333333333333,
             "#9c179e"
            ],
            [
             0.4444444444444444,
             "#bd3786"
            ],
            [
             0.5555555555555556,
             "#d8576b"
            ],
            [
             0.6666666666666666,
             "#ed7953"
            ],
            [
             0.7777777777777778,
             "#fb9f3a"
            ],
            [
             0.8888888888888888,
             "#fdca26"
            ],
            [
             1,
             "#f0f921"
            ]
           ]
          },
          "colorway": [
           "#636efa",
           "#EF553B",
           "#00cc96",
           "#ab63fa",
           "#FFA15A",
           "#19d3f3",
           "#FF6692",
           "#B6E880",
           "#FF97FF",
           "#FECB52"
          ],
          "font": {
           "color": "#2a3f5f"
          },
          "geo": {
           "bgcolor": "white",
           "lakecolor": "white",
           "landcolor": "#E5ECF6",
           "showlakes": true,
           "showland": true,
           "subunitcolor": "white"
          },
          "hoverlabel": {
           "align": "left"
          },
          "hovermode": "closest",
          "mapbox": {
           "style": "light"
          },
          "paper_bgcolor": "white",
          "plot_bgcolor": "#E5ECF6",
          "polar": {
           "angularaxis": {
            "gridcolor": "white",
            "linecolor": "white",
            "ticks": ""
           },
           "bgcolor": "#E5ECF6",
           "radialaxis": {
            "gridcolor": "white",
            "linecolor": "white",
            "ticks": ""
           }
          },
          "scene": {
           "xaxis": {
            "backgroundcolor": "#E5ECF6",
            "gridcolor": "white",
            "gridwidth": 2,
            "linecolor": "white",
            "showbackground": true,
            "ticks": "",
            "zerolinecolor": "white"
           },
           "yaxis": {
            "backgroundcolor": "#E5ECF6",
            "gridcolor": "white",
            "gridwidth": 2,
            "linecolor": "white",
            "showbackground": true,
            "ticks": "",
            "zerolinecolor": "white"
           },
           "zaxis": {
            "backgroundcolor": "#E5ECF6",
            "gridcolor": "white",
            "gridwidth": 2,
            "linecolor": "white",
            "showbackground": true,
            "ticks": "",
            "zerolinecolor": "white"
           }
          },
          "shapedefaults": {
           "line": {
            "color": "#2a3f5f"
           }
          },
          "ternary": {
           "aaxis": {
            "gridcolor": "white",
            "linecolor": "white",
            "ticks": ""
           },
           "baxis": {
            "gridcolor": "white",
            "linecolor": "white",
            "ticks": ""
           },
           "bgcolor": "#E5ECF6",
           "caxis": {
            "gridcolor": "white",
            "linecolor": "white",
            "ticks": ""
           }
          },
          "title": {
           "x": 0.05
          },
          "xaxis": {
           "automargin": true,
           "gridcolor": "white",
           "linecolor": "white",
           "ticks": "",
           "title": {
            "standoff": 15
           },
           "zerolinecolor": "white",
           "zerolinewidth": 2
          },
          "yaxis": {
           "automargin": true,
           "gridcolor": "white",
           "linecolor": "white",
           "ticks": "",
           "title": {
            "standoff": 15
           },
           "zerolinecolor": "white",
           "zerolinewidth": 2
          }
         }
        },
        "xaxis": {
         "anchor": "y",
         "domain": [
          0,
          1
         ],
         "title": {
          "text": "yearweek"
         }
        },
        "yaxis": {
         "anchor": "x",
         "domain": [
          0,
          1
         ],
         "title": {
          "text": "delta_confirmed_cases"
         }
        }
       }
      },
      "text/html": [
       "<div>                            <div id=\"42088691-d805-4674-be70-b43f5dd95cbb\" class=\"plotly-graph-div\" style=\"height:525px; width:100%;\"></div>            <script type=\"text/javascript\">                require([\"plotly\"], function(Plotly) {                    window.PLOTLYENV=window.PLOTLYENV || {};                                    if (document.getElementById(\"42088691-d805-4674-be70-b43f5dd95cbb\")) {                    Plotly.newPlot(                        \"42088691-d805-4674-be70-b43f5dd95cbb\",                        [{\"hovertemplate\": \"group=Kauno m. sav.<br>yearweek=%{x}<br>delta_confirmed_cases=%{y}<extra></extra>\", \"legendgroup\": \"Kauno m. sav.\", \"line\": {\"color\": \"#636efa\", \"dash\": \"solid\"}, \"mode\": \"lines\", \"name\": \"Kauno m. sav.\", \"orientation\": \"v\", \"showlegend\": true, \"type\": \"scatter\", \"x\": [\"2020-w35\", \"2020-w36\", \"2020-w37\", \"2020-w38\", \"2020-w39\", \"2020-w40\", \"2020-w41\", \"2020-w42\", \"2020-w43\", \"2020-w44\", \"2020-w45\", \"2020-w46\", \"2020-w47\", \"2020-w48\"], \"xaxis\": \"x\", \"y\": [1.0, -1.0, 8.0, 2.0, -3.0, 8.0, 3.0, 62.0, 0.0, 129.0, -111.0, 111.0, -40.0, 355.0], \"yaxis\": \"y\"}, {\"hovertemplate\": \"group=Kauno r. sav.<br>yearweek=%{x}<br>delta_confirmed_cases=%{y}<extra></extra>\", \"legendgroup\": \"Kauno r. sav.\", \"line\": {\"color\": \"#EF553B\", \"dash\": \"solid\"}, \"mode\": \"lines\", \"name\": \"Kauno r. sav.\", \"orientation\": \"v\", \"showlegend\": true, \"type\": \"scatter\", \"x\": [\"2020-w35\", \"2020-w36\", \"2020-w37\", \"2020-w38\", \"2020-w39\", \"2020-w40\", \"2020-w41\", \"2020-w42\", \"2020-w43\", \"2020-w44\", \"2020-w45\", \"2020-w46\", \"2020-w47\", \"2020-w48\"], \"xaxis\": \"x\", \"y\": [0.0, -1.0, 1.0, 0.0, 2.0, -2.0, 6.0, 20.0, -1.0, 56.0, -40.0, 22.0, 9.0, 27.0], \"yaxis\": \"y\"}, {\"hovertemplate\": \"group=Klaip\\u0117dos m. sav.<br>yearweek=%{x}<br>delta_confirmed_cases=%{y}<extra></extra>\", \"legendgroup\": \"Klaip\\u0117dos m. sav.\", \"line\": {\"color\": \"#00cc96\", \"dash\": \"solid\"}, \"mode\": \"lines\", \"name\": \"Klaip\\u0117dos m. sav.\", \"orientation\": \"v\", \"showlegend\": true, \"type\": \"scatter\", \"x\": [\"2020-w35\", \"2020-w36\", \"2020-w37\", \"2020-w38\", \"2020-w39\", \"2020-w40\", \"2020-w41\", \"2020-w42\", \"2020-w43\", \"2020-w44\", \"2020-w45\", \"2020-w46\", \"2020-w47\", \"2020-w48\"], \"xaxis\": \"x\", \"y\": [0.0, 5.0, -1.0, -4.0, 4.0, -1.0, 23.0, 8.0, 69.0, 126.0, -119.0, 47.0, -27.0, -22.0], \"yaxis\": \"y\"}, {\"hovertemplate\": \"group=Klaip\\u0117dos r. sav.<br>yearweek=%{x}<br>delta_confirmed_cases=%{y}<extra></extra>\", \"legendgroup\": \"Klaip\\u0117dos r. sav.\", \"line\": {\"color\": \"#ab63fa\", \"dash\": \"solid\"}, \"mode\": \"lines\", \"name\": \"Klaip\\u0117dos r. sav.\", \"orientation\": \"v\", \"showlegend\": true, \"type\": \"scatter\", \"x\": [\"2020-w35\", \"2020-w36\", \"2020-w37\", \"2020-w38\", \"2020-w39\", \"2020-w40\", \"2020-w41\", \"2020-w42\", \"2020-w43\", \"2020-w44\", \"2020-w45\", \"2020-w46\", \"2020-w47\", \"2020-w48\"], \"xaxis\": \"x\", \"y\": [1.0, -2.0, 0.0, 0.0, 0.0, 1.0, 3.0, 16.0, 14.0, 42.0, -36.0, 5.0, 19.0, -28.0], \"yaxis\": \"y\"}, {\"hovertemplate\": \"group=K\\u0117daini\\u0173 r. sav.<br>yearweek=%{x}<br>delta_confirmed_cases=%{y}<extra></extra>\", \"legendgroup\": \"K\\u0117daini\\u0173 r. sav.\", \"line\": {\"color\": \"#FFA15A\", \"dash\": \"solid\"}, \"mode\": \"lines\", \"name\": \"K\\u0117daini\\u0173 r. sav.\", \"orientation\": \"v\", \"showlegend\": true, \"type\": \"scatter\", \"x\": [\"2020-w35\", \"2020-w36\", \"2020-w37\", \"2020-w38\", \"2020-w39\", \"2020-w40\", \"2020-w41\", \"2020-w42\", \"2020-w43\", \"2020-w44\", \"2020-w45\", \"2020-w46\", \"2020-w47\", \"2020-w48\"], \"xaxis\": \"x\", \"y\": [2.0, -2.0, 0.0, 7.0, -7.0, 0.0, 0.0, 0.0, 4.0, 20.0, 0.0, 36.0, 38.0, -30.0], \"yaxis\": \"y\"}, {\"hovertemplate\": \"group=Ma\\u017eeiki\\u0173 r. sav.<br>yearweek=%{x}<br>delta_confirmed_cases=%{y}<extra></extra>\", \"legendgroup\": \"Ma\\u017eeiki\\u0173 r. sav.\", \"line\": {\"color\": \"#19d3f3\", \"dash\": \"solid\"}, \"mode\": \"lines\", \"name\": \"Ma\\u017eeiki\\u0173 r. sav.\", \"orientation\": \"v\", \"showlegend\": true, \"type\": \"scatter\", \"x\": [\"2020-w35\", \"2020-w36\", \"2020-w37\", \"2020-w38\", \"2020-w39\", \"2020-w40\", \"2020-w41\", \"2020-w42\", \"2020-w43\", \"2020-w44\", \"2020-w45\", \"2020-w46\", \"2020-w47\", \"2020-w48\"], \"xaxis\": \"x\", \"y\": [-1.0, 1.0, 0.0, 2.0, -3.0, 0.0, 2.0, 15.0, 15.0, 28.0, 17.0, 3.0, -4.0, -27.0], \"yaxis\": \"y\"}, {\"hovertemplate\": \"group=Other<br>yearweek=%{x}<br>delta_confirmed_cases=%{y}<extra></extra>\", \"legendgroup\": \"Other\", \"line\": {\"color\": \"#FF6692\", \"dash\": \"solid\"}, \"mode\": \"lines\", \"name\": \"Other\", \"orientation\": \"v\", \"showlegend\": true, \"type\": \"scatter\", \"x\": [\"2020-w35\", \"2020-w36\", \"2020-w37\", \"2020-w38\", \"2020-w39\", \"2020-w40\", \"2020-w41\", \"2020-w42\", \"2020-w43\", \"2020-w44\", \"2020-w45\", \"2020-w46\", \"2020-w47\", \"2020-w48\"], \"xaxis\": \"x\", \"y\": [0.0, 6.0, 25.0, -15.0, 14.0, 39.0, 13.0, 99.0, 115.0, 428.0, -138.0, 400.0, -148.0, 276.0], \"yaxis\": \"y\"}, {\"hovertemplate\": \"group=Panev\\u0117\\u017eio m. sav.<br>yearweek=%{x}<br>delta_confirmed_cases=%{y}<extra></extra>\", \"legendgroup\": \"Panev\\u0117\\u017eio m. sav.\", \"line\": {\"color\": \"#B6E880\", \"dash\": \"solid\"}, \"mode\": \"lines\", \"name\": \"Panev\\u0117\\u017eio m. sav.\", \"orientation\": \"v\", \"showlegend\": true, \"type\": \"scatter\", \"x\": [\"2020-w35\", \"2020-w36\", \"2020-w37\", \"2020-w38\", \"2020-w39\", \"2020-w40\", \"2020-w41\", \"2020-w42\", \"2020-w43\", \"2020-w44\", \"2020-w45\", \"2020-w46\", \"2020-w47\", \"2020-w48\"], \"xaxis\": \"x\", \"y\": [-1.0, 0.0, 2.0, 6.0, -8.0, 1.0, 6.0, -3.0, 14.0, 54.0, 16.0, 14.0, -15.0, 2.0], \"yaxis\": \"y\"}, {\"hovertemplate\": \"group=Vilniaus m. sav.<br>yearweek=%{x}<br>delta_confirmed_cases=%{y}<extra></extra>\", \"legendgroup\": \"Vilniaus m. sav.\", \"line\": {\"color\": \"#FF97FF\", \"dash\": \"solid\"}, \"mode\": \"lines\", \"name\": \"Vilniaus m. sav.\", \"orientation\": \"v\", \"showlegend\": true, \"type\": \"scatter\", \"x\": [\"2020-w35\", \"2020-w36\", \"2020-w37\", \"2020-w38\", \"2020-w39\", \"2020-w40\", \"2020-w41\", \"2020-w42\", \"2020-w43\", \"2020-w44\", \"2020-w45\", \"2020-w46\", \"2020-w47\", \"2020-w48\"], \"xaxis\": \"x\", \"y\": [8.0, -6.0, 0.0, 9.0, 12.0, 1.0, 48.0, 104.0, 10.0, 206.0, -174.0, 213.0, -194.0, 297.0], \"yaxis\": \"y\"}, {\"hovertemplate\": \"group=Vilniaus r. sav.<br>yearweek=%{x}<br>delta_confirmed_cases=%{y}<extra></extra>\", \"legendgroup\": \"Vilniaus r. sav.\", \"line\": {\"color\": \"#FECB52\", \"dash\": \"solid\"}, \"mode\": \"lines\", \"name\": \"Vilniaus r. sav.\", \"orientation\": \"v\", \"showlegend\": true, \"type\": \"scatter\", \"x\": [\"2020-w35\", \"2020-w36\", \"2020-w37\", \"2020-w38\", \"2020-w39\", \"2020-w40\", \"2020-w41\", \"2020-w42\", \"2020-w43\", \"2020-w44\", \"2020-w45\", \"2020-w46\", \"2020-w47\", \"2020-w48\"], \"xaxis\": \"x\", \"y\": [1.0, 1.0, 1.0, -1.0, -1.0, 3.0, -1.0, 13.0, 0.0, 16.0, 8.0, 12.0, -6.0, 46.0], \"yaxis\": \"y\"}, {\"hovertemplate\": \"group=\\u0160iauli\\u0173 m. sav.<br>yearweek=%{x}<br>delta_confirmed_cases=%{y}<extra></extra>\", \"legendgroup\": \"\\u0160iauli\\u0173 m. sav.\", \"line\": {\"color\": \"#636efa\", \"dash\": \"solid\"}, \"mode\": \"lines\", \"name\": \"\\u0160iauli\\u0173 m. sav.\", \"orientation\": \"v\", \"showlegend\": true, \"type\": \"scatter\", \"x\": [\"2020-w35\", \"2020-w36\", \"2020-w37\", \"2020-w38\", \"2020-w39\", \"2020-w40\", \"2020-w41\", \"2020-w42\", \"2020-w43\", \"2020-w44\", \"2020-w45\", \"2020-w46\", \"2020-w47\", \"2020-w48\"], \"xaxis\": \"x\", \"y\": [3.0, -5.0, 5.0, 5.0, 4.0, 5.0, -10.0, 9.0, 47.0, -12.0, -25.0, 71.0, 29.0, -17.0], \"yaxis\": \"y\"}],                        {\"legend\": {\"title\": {\"text\": \"group\"}, \"tracegroupgap\": 0}, \"margin\": {\"t\": 60}, \"template\": {\"data\": {\"bar\": [{\"error_x\": {\"color\": \"#2a3f5f\"}, \"error_y\": {\"color\": \"#2a3f5f\"}, \"marker\": {\"line\": {\"color\": \"#E5ECF6\", \"width\": 0.5}}, \"type\": \"bar\"}], \"barpolar\": [{\"marker\": {\"line\": {\"color\": \"#E5ECF6\", \"width\": 0.5}}, \"type\": \"barpolar\"}], \"carpet\": [{\"aaxis\": {\"endlinecolor\": \"#2a3f5f\", \"gridcolor\": \"white\", \"linecolor\": \"white\", \"minorgridcolor\": \"white\", \"startlinecolor\": \"#2a3f5f\"}, \"baxis\": {\"endlinecolor\": \"#2a3f5f\", \"gridcolor\": \"white\", \"linecolor\": \"white\", \"minorgridcolor\": \"white\", \"startlinecolor\": \"#2a3f5f\"}, \"type\": \"carpet\"}], \"choropleth\": [{\"colorbar\": {\"outlinewidth\": 0, \"ticks\": \"\"}, \"type\": \"choropleth\"}], \"contour\": [{\"colorbar\": {\"outlinewidth\": 0, \"ticks\": \"\"}, \"colorscale\": [[0.0, \"#0d0887\"], [0.1111111111111111, \"#46039f\"], [0.2222222222222222, \"#7201a8\"], [0.3333333333333333, \"#9c179e\"], [0.4444444444444444, \"#bd3786\"], [0.5555555555555556, \"#d8576b\"], [0.6666666666666666, \"#ed7953\"], [0.7777777777777778, \"#fb9f3a\"], [0.8888888888888888, \"#fdca26\"], [1.0, \"#f0f921\"]], \"type\": \"contour\"}], \"contourcarpet\": [{\"colorbar\": {\"outlinewidth\": 0, \"ticks\": \"\"}, \"type\": \"contourcarpet\"}], \"heatmap\": [{\"colorbar\": {\"outlinewidth\": 0, \"ticks\": \"\"}, \"colorscale\": [[0.0, \"#0d0887\"], [0.1111111111111111, \"#46039f\"], [0.2222222222222222, \"#7201a8\"], [0.3333333333333333, \"#9c179e\"], [0.4444444444444444, \"#bd3786\"], [0.5555555555555556, \"#d8576b\"], [0.6666666666666666, \"#ed7953\"], [0.7777777777777778, \"#fb9f3a\"], [0.8888888888888888, \"#fdca26\"], [1.0, \"#f0f921\"]], \"type\": \"heatmap\"}], \"heatmapgl\": [{\"colorbar\": {\"outlinewidth\": 0, \"ticks\": \"\"}, \"colorscale\": [[0.0, \"#0d0887\"], [0.1111111111111111, \"#46039f\"], [0.2222222222222222, \"#7201a8\"], [0.3333333333333333, \"#9c179e\"], [0.4444444444444444, \"#bd3786\"], [0.5555555555555556, \"#d8576b\"], [0.6666666666666666, \"#ed7953\"], [0.7777777777777778, \"#fb9f3a\"], [0.8888888888888888, \"#fdca26\"], [1.0, \"#f0f921\"]], \"type\": \"heatmapgl\"}], \"histogram\": [{\"marker\": {\"colorbar\": {\"outlinewidth\": 0, \"ticks\": \"\"}}, \"type\": \"histogram\"}], \"histogram2d\": [{\"colorbar\": {\"outlinewidth\": 0, \"ticks\": \"\"}, \"colorscale\": [[0.0, \"#0d0887\"], [0.1111111111111111, \"#46039f\"], [0.2222222222222222, \"#7201a8\"], [0.3333333333333333, \"#9c179e\"], [0.4444444444444444, \"#bd3786\"], [0.5555555555555556, \"#d8576b\"], [0.6666666666666666, \"#ed7953\"], [0.7777777777777778, \"#fb9f3a\"], [0.8888888888888888, \"#fdca26\"], [1.0, \"#f0f921\"]], \"type\": \"histogram2d\"}], \"histogram2dcontour\": [{\"colorbar\": {\"outlinewidth\": 0, \"ticks\": \"\"}, \"colorscale\": [[0.0, \"#0d0887\"], [0.1111111111111111, \"#46039f\"], [0.2222222222222222, \"#7201a8\"], [0.3333333333333333, \"#9c179e\"], [0.4444444444444444, \"#bd3786\"], [0.5555555555555556, \"#d8576b\"], [0.6666666666666666, \"#ed7953\"], [0.7777777777777778, \"#fb9f3a\"], [0.8888888888888888, \"#fdca26\"], [1.0, \"#f0f921\"]], \"type\": \"histogram2dcontour\"}], \"mesh3d\": [{\"colorbar\": {\"outlinewidth\": 0, \"ticks\": \"\"}, \"type\": \"mesh3d\"}], \"parcoords\": [{\"line\": {\"colorbar\": {\"outlinewidth\": 0, \"ticks\": \"\"}}, \"type\": \"parcoords\"}], \"pie\": [{\"automargin\": true, \"type\": \"pie\"}], \"scatter\": [{\"marker\": {\"colorbar\": {\"outlinewidth\": 0, \"ticks\": \"\"}}, \"type\": \"scatter\"}], \"scatter3d\": [{\"line\": {\"colorbar\": {\"outlinewidth\": 0, \"ticks\": \"\"}}, \"marker\": {\"colorbar\": {\"outlinewidth\": 0, \"ticks\": \"\"}}, \"type\": \"scatter3d\"}], \"scattercarpet\": [{\"marker\": {\"colorbar\": {\"outlinewidth\": 0, \"ticks\": \"\"}}, \"type\": \"scattercarpet\"}], \"scattergeo\": [{\"marker\": {\"colorbar\": {\"outlinewidth\": 0, \"ticks\": \"\"}}, \"type\": \"scattergeo\"}], \"scattergl\": [{\"marker\": {\"colorbar\": {\"outlinewidth\": 0, \"ticks\": \"\"}}, \"type\": \"scattergl\"}], \"scattermapbox\": [{\"marker\": {\"colorbar\": {\"outlinewidth\": 0, \"ticks\": \"\"}}, \"type\": \"scattermapbox\"}], \"scatterpolar\": [{\"marker\": {\"colorbar\": {\"outlinewidth\": 0, \"ticks\": \"\"}}, \"type\": \"scatterpolar\"}], \"scatterpolargl\": [{\"marker\": {\"colorbar\": {\"outlinewidth\": 0, \"ticks\": \"\"}}, \"type\": \"scatterpolargl\"}], \"scatterternary\": [{\"marker\": {\"colorbar\": {\"outlinewidth\": 0, \"ticks\": \"\"}}, \"type\": \"scatterternary\"}], \"surface\": [{\"colorbar\": {\"outlinewidth\": 0, \"ticks\": \"\"}, \"colorscale\": [[0.0, \"#0d0887\"], [0.1111111111111111, \"#46039f\"], [0.2222222222222222, \"#7201a8\"], [0.3333333333333333, \"#9c179e\"], [0.4444444444444444, \"#bd3786\"], [0.5555555555555556, \"#d8576b\"], [0.6666666666666666, \"#ed7953\"], [0.7777777777777778, \"#fb9f3a\"], [0.8888888888888888, \"#fdca26\"], [1.0, \"#f0f921\"]], \"type\": \"surface\"}], \"table\": [{\"cells\": {\"fill\": {\"color\": \"#EBF0F8\"}, \"line\": {\"color\": \"white\"}}, \"header\": {\"fill\": {\"color\": \"#C8D4E3\"}, \"line\": {\"color\": \"white\"}}, \"type\": \"table\"}]}, \"layout\": {\"annotationdefaults\": {\"arrowcolor\": \"#2a3f5f\", \"arrowhead\": 0, \"arrowwidth\": 1}, \"coloraxis\": {\"colorbar\": {\"outlinewidth\": 0, \"ticks\": \"\"}}, \"colorscale\": {\"diverging\": [[0, \"#8e0152\"], [0.1, \"#c51b7d\"], [0.2, \"#de77ae\"], [0.3, \"#f1b6da\"], [0.4, \"#fde0ef\"], [0.5, \"#f7f7f7\"], [0.6, \"#e6f5d0\"], [0.7, \"#b8e186\"], [0.8, \"#7fbc41\"], [0.9, \"#4d9221\"], [1, \"#276419\"]], \"sequential\": [[0.0, \"#0d0887\"], [0.1111111111111111, \"#46039f\"], [0.2222222222222222, \"#7201a8\"], [0.3333333333333333, \"#9c179e\"], [0.4444444444444444, \"#bd3786\"], [0.5555555555555556, \"#d8576b\"], [0.6666666666666666, \"#ed7953\"], [0.7777777777777778, \"#fb9f3a\"], [0.8888888888888888, \"#fdca26\"], [1.0, \"#f0f921\"]], \"sequentialminus\": [[0.0, \"#0d0887\"], [0.1111111111111111, \"#46039f\"], [0.2222222222222222, \"#7201a8\"], [0.3333333333333333, \"#9c179e\"], [0.4444444444444444, \"#bd3786\"], [0.5555555555555556, \"#d8576b\"], [0.6666666666666666, \"#ed7953\"], [0.7777777777777778, \"#fb9f3a\"], [0.8888888888888888, \"#fdca26\"], [1.0, \"#f0f921\"]]}, \"colorway\": [\"#636efa\", \"#EF553B\", \"#00cc96\", \"#ab63fa\", \"#FFA15A\", \"#19d3f3\", \"#FF6692\", \"#B6E880\", \"#FF97FF\", \"#FECB52\"], \"font\": {\"color\": \"#2a3f5f\"}, \"geo\": {\"bgcolor\": \"white\", \"lakecolor\": \"white\", \"landcolor\": \"#E5ECF6\", \"showlakes\": true, \"showland\": true, \"subunitcolor\": \"white\"}, \"hoverlabel\": {\"align\": \"left\"}, \"hovermode\": \"closest\", \"mapbox\": {\"style\": \"light\"}, \"paper_bgcolor\": \"white\", \"plot_bgcolor\": \"#E5ECF6\", \"polar\": {\"angularaxis\": {\"gridcolor\": \"white\", \"linecolor\": \"white\", \"ticks\": \"\"}, \"bgcolor\": \"#E5ECF6\", \"radialaxis\": {\"gridcolor\": \"white\", \"linecolor\": \"white\", \"ticks\": \"\"}}, \"scene\": {\"xaxis\": {\"backgroundcolor\": \"#E5ECF6\", \"gridcolor\": \"white\", \"gridwidth\": 2, \"linecolor\": \"white\", \"showbackground\": true, \"ticks\": \"\", \"zerolinecolor\": \"white\"}, \"yaxis\": {\"backgroundcolor\": \"#E5ECF6\", \"gridcolor\": \"white\", \"gridwidth\": 2, \"linecolor\": \"white\", \"showbackground\": true, \"ticks\": \"\", \"zerolinecolor\": \"white\"}, \"zaxis\": {\"backgroundcolor\": \"#E5ECF6\", \"gridcolor\": \"white\", \"gridwidth\": 2, \"linecolor\": \"white\", \"showbackground\": true, \"ticks\": \"\", \"zerolinecolor\": \"white\"}}, \"shapedefaults\": {\"line\": {\"color\": \"#2a3f5f\"}}, \"ternary\": {\"aaxis\": {\"gridcolor\": \"white\", \"linecolor\": \"white\", \"ticks\": \"\"}, \"baxis\": {\"gridcolor\": \"white\", \"linecolor\": \"white\", \"ticks\": \"\"}, \"bgcolor\": \"#E5ECF6\", \"caxis\": {\"gridcolor\": \"white\", \"linecolor\": \"white\", \"ticks\": \"\"}}, \"title\": {\"x\": 0.05}, \"xaxis\": {\"automargin\": true, \"gridcolor\": \"white\", \"linecolor\": \"white\", \"ticks\": \"\", \"title\": {\"standoff\": 15}, \"zerolinecolor\": \"white\", \"zerolinewidth\": 2}, \"yaxis\": {\"automargin\": true, \"gridcolor\": \"white\", \"linecolor\": \"white\", \"ticks\": \"\", \"title\": {\"standoff\": 15}, \"zerolinecolor\": \"white\", \"zerolinewidth\": 2}}}, \"xaxis\": {\"anchor\": \"y\", \"domain\": [0.0, 1.0], \"title\": {\"text\": \"yearweek\"}}, \"yaxis\": {\"anchor\": \"x\", \"domain\": [0.0, 1.0], \"title\": {\"text\": \"delta_confirmed_cases\"}}},                        {\"responsive\": true}                    ).then(function(){\n",
       "                            \n",
       "var gd = document.getElementById('42088691-d805-4674-be70-b43f5dd95cbb');\n",
       "var x = new MutationObserver(function (mutations, observer) {{\n",
       "        var display = window.getComputedStyle(gd).display;\n",
       "        if (!display || display === 'none') {{\n",
       "            console.log([gd, 'removed!']);\n",
       "            Plotly.purge(gd);\n",
       "            observer.disconnect();\n",
       "        }}\n",
       "}});\n",
       "\n",
       "// Listen for the removal of the full notebook cells\n",
       "var notebookContainer = gd.closest('#notebook-container');\n",
       "if (notebookContainer) {{\n",
       "    x.observe(notebookContainer, {childList: true});\n",
       "}}\n",
       "\n",
       "// Listen for the clearing of the current output cell\n",
       "var outputEl = gd.closest('.output');\n",
       "if (outputEl) {{\n",
       "    x.observe(outputEl, {childList: true});\n",
       "}}\n",
       "\n",
       "                        })                };                });            </script>        </div>"
      ]
     },
     "metadata": {},
     "output_type": "display_data"
    }
   ],
   "source": [
    "import plotly.express as px\n",
    "plot_df = df\n",
    "plot_df = plot_df.pivot_table(index=[plot_x, plot_hue], values=plot_y, aggfunc='sum').reset_index()\n",
    "\n",
    "fig = px.line(plot_df, x=plot_x, y=plot_y, color=plot_hue)\n",
    "fig.show()\n",
    "fig.write_html(f\"output\\plotly_line{date_range}.html\")"
   ]
  },
  {
   "cell_type": "code",
   "execution_count": 188,
   "metadata": {},
   "outputs": [],
   "source": [
    "iterate = list(set(df['group']))"
   ]
  },
  {
   "cell_type": "code",
   "execution_count": 189,
   "metadata": {},
   "outputs": [
    {
     "ename": "ValueError",
     "evalue": "cannot insert level_0, already exists",
     "output_type": "error",
     "traceback": [
      "\u001b[1;31m---------------------------------------------------------------------------\u001b[0m",
      "\u001b[1;31mValueError\u001b[0m                                Traceback (most recent call last)",
      "\u001b[1;32m<ipython-input-189-4ae97c47d0e7>\u001b[0m in \u001b[0;36m<module>\u001b[1;34m\u001b[0m\n\u001b[0;32m      1\u001b[0m \u001b[1;32mfor\u001b[0m \u001b[0mgroup\u001b[0m \u001b[1;32min\u001b[0m \u001b[0miterate\u001b[0m\u001b[1;33m:\u001b[0m\u001b[1;33m\u001b[0m\u001b[1;33m\u001b[0m\u001b[0m\n\u001b[1;32m----> 2\u001b[1;33m     \u001b[0mplot_df\u001b[0m \u001b[1;33m=\u001b[0m \u001b[0mdf\u001b[0m\u001b[1;33m[\u001b[0m\u001b[0mdf\u001b[0m\u001b[1;33m[\u001b[0m\u001b[1;34m'group'\u001b[0m\u001b[1;33m]\u001b[0m\u001b[1;33m==\u001b[0m\u001b[0mgroup\u001b[0m\u001b[1;33m]\u001b[0m\u001b[1;33m.\u001b[0m\u001b[0mreset_index\u001b[0m\u001b[1;33m(\u001b[0m\u001b[1;33m)\u001b[0m\u001b[1;33m\u001b[0m\u001b[1;33m\u001b[0m\u001b[0m\n\u001b[0m\u001b[0;32m      3\u001b[0m     \u001b[0mfig\u001b[0m\u001b[1;33m,\u001b[0m \u001b[0max\u001b[0m \u001b[1;33m=\u001b[0m \u001b[0mplt\u001b[0m\u001b[1;33m.\u001b[0m\u001b[0msubplots\u001b[0m\u001b[1;33m(\u001b[0m\u001b[0mfigsize\u001b[0m\u001b[1;33m=\u001b[0m\u001b[1;33m(\u001b[0m\u001b[1;36m16\u001b[0m\u001b[1;33m,\u001b[0m \u001b[1;36m10\u001b[0m\u001b[1;33m)\u001b[0m\u001b[1;33m)\u001b[0m\u001b[1;33m\u001b[0m\u001b[1;33m\u001b[0m\u001b[0m\n\u001b[0;32m      4\u001b[0m \u001b[1;33m\u001b[0m\u001b[0m\n\u001b[0;32m      5\u001b[0m     \u001b[0mplot_df\u001b[0m \u001b[1;33m=\u001b[0m \u001b[0mplot_df\u001b[0m\u001b[1;33m.\u001b[0m\u001b[0mpivot_table\u001b[0m\u001b[1;33m(\u001b[0m\u001b[0mindex\u001b[0m\u001b[1;33m=\u001b[0m\u001b[0mplot_x\u001b[0m\u001b[1;33m,\u001b[0m \u001b[0mvalues\u001b[0m\u001b[1;33m=\u001b[0m\u001b[0mplot_y\u001b[0m\u001b[1;33m,\u001b[0m \u001b[0maggfunc\u001b[0m\u001b[1;33m=\u001b[0m\u001b[1;34m'sum'\u001b[0m\u001b[1;33m)\u001b[0m\u001b[1;33m.\u001b[0m\u001b[0mreset_index\u001b[0m\u001b[1;33m(\u001b[0m\u001b[1;33m)\u001b[0m\u001b[1;33m\u001b[0m\u001b[1;33m\u001b[0m\u001b[0m\n",
      "\u001b[1;32m~\\anaconda3\\lib\\site-packages\\pandas\\core\\frame.py\u001b[0m in \u001b[0;36mreset_index\u001b[1;34m(self, level, drop, inplace, col_level, col_fill)\u001b[0m\n\u001b[0;32m   4853\u001b[0m                 \u001b[1;31m# to ndarray and maybe infer different dtype\u001b[0m\u001b[1;33m\u001b[0m\u001b[1;33m\u001b[0m\u001b[1;33m\u001b[0m\u001b[0m\n\u001b[0;32m   4854\u001b[0m                 \u001b[0mlevel_values\u001b[0m \u001b[1;33m=\u001b[0m \u001b[0m_maybe_casted_values\u001b[0m\u001b[1;33m(\u001b[0m\u001b[0mlev\u001b[0m\u001b[1;33m,\u001b[0m \u001b[0mlab\u001b[0m\u001b[1;33m)\u001b[0m\u001b[1;33m\u001b[0m\u001b[1;33m\u001b[0m\u001b[0m\n\u001b[1;32m-> 4855\u001b[1;33m                 \u001b[0mnew_obj\u001b[0m\u001b[1;33m.\u001b[0m\u001b[0minsert\u001b[0m\u001b[1;33m(\u001b[0m\u001b[1;36m0\u001b[0m\u001b[1;33m,\u001b[0m \u001b[0mname\u001b[0m\u001b[1;33m,\u001b[0m \u001b[0mlevel_values\u001b[0m\u001b[1;33m)\u001b[0m\u001b[1;33m\u001b[0m\u001b[1;33m\u001b[0m\u001b[0m\n\u001b[0m\u001b[0;32m   4856\u001b[0m \u001b[1;33m\u001b[0m\u001b[0m\n\u001b[0;32m   4857\u001b[0m         \u001b[0mnew_obj\u001b[0m\u001b[1;33m.\u001b[0m\u001b[0mindex\u001b[0m \u001b[1;33m=\u001b[0m \u001b[0mnew_index\u001b[0m\u001b[1;33m\u001b[0m\u001b[1;33m\u001b[0m\u001b[0m\n",
      "\u001b[1;32m~\\anaconda3\\lib\\site-packages\\pandas\\core\\frame.py\u001b[0m in \u001b[0;36minsert\u001b[1;34m(self, loc, column, value, allow_duplicates)\u001b[0m\n\u001b[0;32m   3622\u001b[0m         \u001b[0mself\u001b[0m\u001b[1;33m.\u001b[0m\u001b[0m_ensure_valid_index\u001b[0m\u001b[1;33m(\u001b[0m\u001b[0mvalue\u001b[0m\u001b[1;33m)\u001b[0m\u001b[1;33m\u001b[0m\u001b[1;33m\u001b[0m\u001b[0m\n\u001b[0;32m   3623\u001b[0m         \u001b[0mvalue\u001b[0m \u001b[1;33m=\u001b[0m \u001b[0mself\u001b[0m\u001b[1;33m.\u001b[0m\u001b[0m_sanitize_column\u001b[0m\u001b[1;33m(\u001b[0m\u001b[0mcolumn\u001b[0m\u001b[1;33m,\u001b[0m \u001b[0mvalue\u001b[0m\u001b[1;33m,\u001b[0m \u001b[0mbroadcast\u001b[0m\u001b[1;33m=\u001b[0m\u001b[1;32mFalse\u001b[0m\u001b[1;33m)\u001b[0m\u001b[1;33m\u001b[0m\u001b[1;33m\u001b[0m\u001b[0m\n\u001b[1;32m-> 3624\u001b[1;33m         \u001b[0mself\u001b[0m\u001b[1;33m.\u001b[0m\u001b[0m_mgr\u001b[0m\u001b[1;33m.\u001b[0m\u001b[0minsert\u001b[0m\u001b[1;33m(\u001b[0m\u001b[0mloc\u001b[0m\u001b[1;33m,\u001b[0m \u001b[0mcolumn\u001b[0m\u001b[1;33m,\u001b[0m \u001b[0mvalue\u001b[0m\u001b[1;33m,\u001b[0m \u001b[0mallow_duplicates\u001b[0m\u001b[1;33m=\u001b[0m\u001b[0mallow_duplicates\u001b[0m\u001b[1;33m)\u001b[0m\u001b[1;33m\u001b[0m\u001b[1;33m\u001b[0m\u001b[0m\n\u001b[0m\u001b[0;32m   3625\u001b[0m \u001b[1;33m\u001b[0m\u001b[0m\n\u001b[0;32m   3626\u001b[0m     \u001b[1;32mdef\u001b[0m \u001b[0massign\u001b[0m\u001b[1;33m(\u001b[0m\u001b[0mself\u001b[0m\u001b[1;33m,\u001b[0m \u001b[1;33m**\u001b[0m\u001b[0mkwargs\u001b[0m\u001b[1;33m)\u001b[0m \u001b[1;33m->\u001b[0m \u001b[1;34m\"DataFrame\"\u001b[0m\u001b[1;33m:\u001b[0m\u001b[1;33m\u001b[0m\u001b[1;33m\u001b[0m\u001b[0m\n",
      "\u001b[1;32m~\\anaconda3\\lib\\site-packages\\pandas\\core\\internals\\managers.py\u001b[0m in \u001b[0;36minsert\u001b[1;34m(self, loc, item, value, allow_duplicates)\u001b[0m\n\u001b[0;32m   1175\u001b[0m         \u001b[1;32mif\u001b[0m \u001b[1;32mnot\u001b[0m \u001b[0mallow_duplicates\u001b[0m \u001b[1;32mand\u001b[0m \u001b[0mitem\u001b[0m \u001b[1;32min\u001b[0m \u001b[0mself\u001b[0m\u001b[1;33m.\u001b[0m\u001b[0mitems\u001b[0m\u001b[1;33m:\u001b[0m\u001b[1;33m\u001b[0m\u001b[1;33m\u001b[0m\u001b[0m\n\u001b[0;32m   1176\u001b[0m             \u001b[1;31m# Should this be a different kind of error??\u001b[0m\u001b[1;33m\u001b[0m\u001b[1;33m\u001b[0m\u001b[1;33m\u001b[0m\u001b[0m\n\u001b[1;32m-> 1177\u001b[1;33m             \u001b[1;32mraise\u001b[0m \u001b[0mValueError\u001b[0m\u001b[1;33m(\u001b[0m\u001b[1;34mf\"cannot insert {item}, already exists\"\u001b[0m\u001b[1;33m)\u001b[0m\u001b[1;33m\u001b[0m\u001b[1;33m\u001b[0m\u001b[0m\n\u001b[0m\u001b[0;32m   1178\u001b[0m \u001b[1;33m\u001b[0m\u001b[0m\n\u001b[0;32m   1179\u001b[0m         \u001b[1;32mif\u001b[0m \u001b[1;32mnot\u001b[0m \u001b[0misinstance\u001b[0m\u001b[1;33m(\u001b[0m\u001b[0mloc\u001b[0m\u001b[1;33m,\u001b[0m \u001b[0mint\u001b[0m\u001b[1;33m)\u001b[0m\u001b[1;33m:\u001b[0m\u001b[1;33m\u001b[0m\u001b[1;33m\u001b[0m\u001b[0m\n",
      "\u001b[1;31mValueError\u001b[0m: cannot insert level_0, already exists"
     ]
    }
   ],
   "source": [
    "for group in iterate:\n",
    "    plot_df = df[df['group']==group].reset_index()\n",
    "    fig, ax = plt.subplots(figsize=(16, 10))\n",
    "    \n",
    "    plot_df = plot_df.pivot_table(index=plot_x, values=plot_y, aggfunc='sum').reset_index()\n",
    "    \n",
    "    # Specify how our lines should look\n",
    "    ax.plot(plot_df[plot_x], plot_df[plot_y], color='tab:orange', label=group)\n",
    "\n",
    "    # Same as above\n",
    "    ax.set_xlabel('Month')\n",
    "    ax.set_ylabel(plot_y.replace('_',' ').capitalize())\n",
    "    ax.set_title(f\"Monthly Covid confirmed cases in {group} {date_range}\")\n",
    "    ax.grid(True)\n",
    "    ax.legend(loc='upper left')\n",
    "    plt.xticks(rotation=45)\n",
    "    ax.figure.savefig(f'output\\lineplot_{group}.png')"
   ]
  },
  {
   "cell_type": "code",
   "execution_count": 179,
   "metadata": {},
   "outputs": [
    {
     "name": "stdout",
     "output_type": "stream",
     "text": [
      "Collecting altair\n",
      "  Downloading altair-4.1.0-py3-none-any.whl (727 kB)\n",
      "Requirement already satisfied: jsonschema in c:\\users\\lenovo\\anaconda3\\lib\\site-packages (from altair) (3.2.0)\n",
      "Requirement already satisfied: numpy in c:\\users\\lenovo\\anaconda3\\lib\\site-packages (from altair) (1.19.2)\n",
      "Requirement already satisfied: entrypoints in c:\\users\\lenovo\\anaconda3\\lib\\site-packages (from altair) (0.3)\n",
      "Requirement already satisfied: jinja2 in c:\\users\\lenovo\\anaconda3\\lib\\site-packages (from altair) (2.11.2)\n",
      "Requirement already satisfied: toolz in c:\\users\\lenovo\\anaconda3\\lib\\site-packages (from altair) (0.11.1)\n",
      "Requirement already satisfied: pandas>=0.18 in c:\\users\\lenovo\\anaconda3\\lib\\site-packages (from altair) (1.1.3)\n",
      "Requirement already satisfied: attrs>=17.4.0 in c:\\users\\lenovo\\anaconda3\\lib\\site-packages (from jsonschema->altair) (20.3.0)\n",
      "Requirement already satisfied: six>=1.11.0 in c:\\users\\lenovo\\anaconda3\\lib\\site-packages (from jsonschema->altair) (1.15.0)\n",
      "Requirement already satisfied: pyrsistent>=0.14.0 in c:\\users\\lenovo\\anaconda3\\lib\\site-packages (from jsonschema->altair) (0.17.3)\n",
      "Requirement already satisfied: setuptools in c:\\users\\lenovo\\anaconda3\\lib\\site-packages (from jsonschema->altair) (50.3.1.post20201107)\n",
      "Requirement already satisfied: MarkupSafe>=0.23 in c:\\users\\lenovo\\anaconda3\\lib\\site-packages (from jinja2->altair) (1.1.1)\n",
      "Requirement already satisfied: python-dateutil>=2.7.3 in c:\\users\\lenovo\\anaconda3\\lib\\site-packages (from pandas>=0.18->altair) (2.8.1)\n",
      "Requirement already satisfied: pytz>=2017.2 in c:\\users\\lenovo\\anaconda3\\lib\\site-packages (from pandas>=0.18->altair) (2020.1)\n",
      "Installing collected packages: altair\n",
      "Successfully installed altair-4.1.0\n"
     ]
    }
   ],
   "source": [
    "\n",
    "!pip install altair\n",
    "import altair as alt"
   ]
  },
  {
   "cell_type": "code",
   "execution_count": 203,
   "metadata": {},
   "outputs": [
    {
     "data": {
      "text/plain": [
       "'delta_confirmed_cases'"
      ]
     },
     "execution_count": 203,
     "metadata": {},
     "output_type": "execute_result"
    }
   ],
   "source": [
    "plot_y"
   ]
  },
  {
   "cell_type": "code",
   "execution_count": 205,
   "metadata": {},
   "outputs": [
    {
     "data": {
      "text/html": [
       "\n",
       "<div id=\"altair-viz-5872c456bfed47ff888e03a6cb9c8a84\"></div>\n",
       "<script type=\"text/javascript\">\n",
       "  (function(spec, embedOpt){\n",
       "    let outputDiv = document.currentScript.previousElementSibling;\n",
       "    if (outputDiv.id !== \"altair-viz-5872c456bfed47ff888e03a6cb9c8a84\") {\n",
       "      outputDiv = document.getElementById(\"altair-viz-5872c456bfed47ff888e03a6cb9c8a84\");\n",
       "    }\n",
       "    const paths = {\n",
       "      \"vega\": \"https://cdn.jsdelivr.net/npm//vega@5?noext\",\n",
       "      \"vega-lib\": \"https://cdn.jsdelivr.net/npm//vega-lib?noext\",\n",
       "      \"vega-lite\": \"https://cdn.jsdelivr.net/npm//vega-lite@4.8.1?noext\",\n",
       "      \"vega-embed\": \"https://cdn.jsdelivr.net/npm//vega-embed@6?noext\",\n",
       "    };\n",
       "\n",
       "    function loadScript(lib) {\n",
       "      return new Promise(function(resolve, reject) {\n",
       "        var s = document.createElement('script');\n",
       "        s.src = paths[lib];\n",
       "        s.async = true;\n",
       "        s.onload = () => resolve(paths[lib]);\n",
       "        s.onerror = () => reject(`Error loading script: ${paths[lib]}`);\n",
       "        document.getElementsByTagName(\"head\")[0].appendChild(s);\n",
       "      });\n",
       "    }\n",
       "\n",
       "    function showError(err) {\n",
       "      outputDiv.innerHTML = `<div class=\"error\" style=\"color:red;\">${err}</div>`;\n",
       "      throw err;\n",
       "    }\n",
       "\n",
       "    function displayChart(vegaEmbed) {\n",
       "      vegaEmbed(outputDiv, spec, embedOpt)\n",
       "        .catch(err => showError(`Javascript Error: ${err.message}<br>This usually means there's a typo in your chart specification. See the javascript console for the full traceback.`));\n",
       "    }\n",
       "\n",
       "    if(typeof define === \"function\" && define.amd) {\n",
       "      requirejs.config({paths});\n",
       "      require([\"vega-embed\"], displayChart, err => showError(`Error loading script: ${err.message}`));\n",
       "    } else if (typeof vegaEmbed === \"function\") {\n",
       "      displayChart(vegaEmbed);\n",
       "    } else {\n",
       "      loadScript(\"vega\")\n",
       "        .then(() => loadScript(\"vega-lite\"))\n",
       "        .then(() => loadScript(\"vega-embed\"))\n",
       "        .catch(showError)\n",
       "        .then(() => displayChart(vegaEmbed));\n",
       "    }\n",
       "  })({\"config\": {\"view\": {\"continuousWidth\": 400, \"continuousHeight\": 300}}, \"data\": {\"name\": \"data-87573a7540e89fe515c6f4d14d91c136\"}, \"mark\": \"line\", \"encoding\": {\"x\": {\"type\": \"temporal\", \"field\": \"date\"}, \"y\": {\"type\": \"quantitative\", \"field\": \"delta_confirmed_cases\"}}, \"$schema\": \"https://vega.github.io/schema/vega-lite/v4.8.1.json\", \"datasets\": {\"data-87573a7540e89fe515c6f4d14d91c136\": [{\"yearweek\": \"2020-w35\", \"group\": \"Kauno m. sav.\", \"delta_confirmed_cases\": 1.0}, {\"yearweek\": \"2020-w35\", \"group\": \"Kauno r. sav.\", \"delta_confirmed_cases\": 0.0}, {\"yearweek\": \"2020-w35\", \"group\": \"Klaip\\u0117dos m. sav.\", \"delta_confirmed_cases\": 0.0}, {\"yearweek\": \"2020-w35\", \"group\": \"Klaip\\u0117dos r. sav.\", \"delta_confirmed_cases\": 1.0}, {\"yearweek\": \"2020-w35\", \"group\": \"K\\u0117daini\\u0173 r. sav.\", \"delta_confirmed_cases\": 2.0}, {\"yearweek\": \"2020-w35\", \"group\": \"Ma\\u017eeiki\\u0173 r. sav.\", \"delta_confirmed_cases\": -1.0}, {\"yearweek\": \"2020-w35\", \"group\": \"Other\", \"delta_confirmed_cases\": 0.0}, {\"yearweek\": \"2020-w35\", \"group\": \"Panev\\u0117\\u017eio m. sav.\", \"delta_confirmed_cases\": -1.0}, {\"yearweek\": \"2020-w35\", \"group\": \"Vilniaus m. sav.\", \"delta_confirmed_cases\": 8.0}, {\"yearweek\": \"2020-w35\", \"group\": \"Vilniaus r. sav.\", \"delta_confirmed_cases\": 1.0}, {\"yearweek\": \"2020-w35\", \"group\": \"\\u0160iauli\\u0173 m. sav.\", \"delta_confirmed_cases\": 3.0}, {\"yearweek\": \"2020-w36\", \"group\": \"Kauno m. sav.\", \"delta_confirmed_cases\": -1.0}, {\"yearweek\": \"2020-w36\", \"group\": \"Kauno r. sav.\", \"delta_confirmed_cases\": -1.0}, {\"yearweek\": \"2020-w36\", \"group\": \"Klaip\\u0117dos m. sav.\", \"delta_confirmed_cases\": 5.0}, {\"yearweek\": \"2020-w36\", \"group\": \"Klaip\\u0117dos r. sav.\", \"delta_confirmed_cases\": -2.0}, {\"yearweek\": \"2020-w36\", \"group\": \"K\\u0117daini\\u0173 r. sav.\", \"delta_confirmed_cases\": -2.0}, {\"yearweek\": \"2020-w36\", \"group\": \"Ma\\u017eeiki\\u0173 r. sav.\", \"delta_confirmed_cases\": 1.0}, {\"yearweek\": \"2020-w36\", \"group\": \"Other\", \"delta_confirmed_cases\": 6.0}, {\"yearweek\": \"2020-w36\", \"group\": \"Panev\\u0117\\u017eio m. sav.\", \"delta_confirmed_cases\": 0.0}, {\"yearweek\": \"2020-w36\", \"group\": \"Vilniaus m. sav.\", \"delta_confirmed_cases\": -6.0}, {\"yearweek\": \"2020-w36\", \"group\": \"Vilniaus r. sav.\", \"delta_confirmed_cases\": 1.0}, {\"yearweek\": \"2020-w36\", \"group\": \"\\u0160iauli\\u0173 m. sav.\", \"delta_confirmed_cases\": -5.0}, {\"yearweek\": \"2020-w37\", \"group\": \"Kauno m. sav.\", \"delta_confirmed_cases\": 8.0}, {\"yearweek\": \"2020-w37\", \"group\": \"Kauno r. sav.\", \"delta_confirmed_cases\": 1.0}, {\"yearweek\": \"2020-w37\", \"group\": \"Klaip\\u0117dos m. sav.\", \"delta_confirmed_cases\": -1.0}, {\"yearweek\": \"2020-w37\", \"group\": \"Klaip\\u0117dos r. sav.\", \"delta_confirmed_cases\": 0.0}, {\"yearweek\": \"2020-w37\", \"group\": \"K\\u0117daini\\u0173 r. sav.\", \"delta_confirmed_cases\": 0.0}, {\"yearweek\": \"2020-w37\", \"group\": \"Ma\\u017eeiki\\u0173 r. sav.\", \"delta_confirmed_cases\": 0.0}, {\"yearweek\": \"2020-w37\", \"group\": \"Other\", \"delta_confirmed_cases\": 25.0}, {\"yearweek\": \"2020-w37\", \"group\": \"Panev\\u0117\\u017eio m. sav.\", \"delta_confirmed_cases\": 2.0}, {\"yearweek\": \"2020-w37\", \"group\": \"Vilniaus m. sav.\", \"delta_confirmed_cases\": 0.0}, {\"yearweek\": \"2020-w37\", \"group\": \"Vilniaus r. sav.\", \"delta_confirmed_cases\": 1.0}, {\"yearweek\": \"2020-w37\", \"group\": \"\\u0160iauli\\u0173 m. sav.\", \"delta_confirmed_cases\": 5.0}, {\"yearweek\": \"2020-w38\", \"group\": \"Kauno m. sav.\", \"delta_confirmed_cases\": 2.0}, {\"yearweek\": \"2020-w38\", \"group\": \"Kauno r. sav.\", \"delta_confirmed_cases\": 0.0}, {\"yearweek\": \"2020-w38\", \"group\": \"Klaip\\u0117dos m. sav.\", \"delta_confirmed_cases\": -4.0}, {\"yearweek\": \"2020-w38\", \"group\": \"Klaip\\u0117dos r. sav.\", \"delta_confirmed_cases\": 0.0}, {\"yearweek\": \"2020-w38\", \"group\": \"K\\u0117daini\\u0173 r. sav.\", \"delta_confirmed_cases\": 7.0}, {\"yearweek\": \"2020-w38\", \"group\": \"Ma\\u017eeiki\\u0173 r. sav.\", \"delta_confirmed_cases\": 2.0}, {\"yearweek\": \"2020-w38\", \"group\": \"Other\", \"delta_confirmed_cases\": -15.0}, {\"yearweek\": \"2020-w38\", \"group\": \"Panev\\u0117\\u017eio m. sav.\", \"delta_confirmed_cases\": 6.0}, {\"yearweek\": \"2020-w38\", \"group\": \"Vilniaus m. sav.\", \"delta_confirmed_cases\": 9.0}, {\"yearweek\": \"2020-w38\", \"group\": \"Vilniaus r. sav.\", \"delta_confirmed_cases\": -1.0}, {\"yearweek\": \"2020-w38\", \"group\": \"\\u0160iauli\\u0173 m. sav.\", \"delta_confirmed_cases\": 5.0}, {\"yearweek\": \"2020-w39\", \"group\": \"Kauno m. sav.\", \"delta_confirmed_cases\": -3.0}, {\"yearweek\": \"2020-w39\", \"group\": \"Kauno r. sav.\", \"delta_confirmed_cases\": 2.0}, {\"yearweek\": \"2020-w39\", \"group\": \"Klaip\\u0117dos m. sav.\", \"delta_confirmed_cases\": 4.0}, {\"yearweek\": \"2020-w39\", \"group\": \"Klaip\\u0117dos r. sav.\", \"delta_confirmed_cases\": 0.0}, {\"yearweek\": \"2020-w39\", \"group\": \"K\\u0117daini\\u0173 r. sav.\", \"delta_confirmed_cases\": -7.0}, {\"yearweek\": \"2020-w39\", \"group\": \"Ma\\u017eeiki\\u0173 r. sav.\", \"delta_confirmed_cases\": -3.0}, {\"yearweek\": \"2020-w39\", \"group\": \"Other\", \"delta_confirmed_cases\": 14.0}, {\"yearweek\": \"2020-w39\", \"group\": \"Panev\\u0117\\u017eio m. sav.\", \"delta_confirmed_cases\": -8.0}, {\"yearweek\": \"2020-w39\", \"group\": \"Vilniaus m. sav.\", \"delta_confirmed_cases\": 12.0}, {\"yearweek\": \"2020-w39\", \"group\": \"Vilniaus r. sav.\", \"delta_confirmed_cases\": -1.0}, {\"yearweek\": \"2020-w39\", \"group\": \"\\u0160iauli\\u0173 m. sav.\", \"delta_confirmed_cases\": 4.0}, {\"yearweek\": \"2020-w40\", \"group\": \"Kauno m. sav.\", \"delta_confirmed_cases\": 8.0}, {\"yearweek\": \"2020-w40\", \"group\": \"Kauno r. sav.\", \"delta_confirmed_cases\": -2.0}, {\"yearweek\": \"2020-w40\", \"group\": \"Klaip\\u0117dos m. sav.\", \"delta_confirmed_cases\": -1.0}, {\"yearweek\": \"2020-w40\", \"group\": \"Klaip\\u0117dos r. sav.\", \"delta_confirmed_cases\": 1.0}, {\"yearweek\": \"2020-w40\", \"group\": \"K\\u0117daini\\u0173 r. sav.\", \"delta_confirmed_cases\": 0.0}, {\"yearweek\": \"2020-w40\", \"group\": \"Ma\\u017eeiki\\u0173 r. sav.\", \"delta_confirmed_cases\": 0.0}, {\"yearweek\": \"2020-w40\", \"group\": \"Other\", \"delta_confirmed_cases\": 39.0}, {\"yearweek\": \"2020-w40\", \"group\": \"Panev\\u0117\\u017eio m. sav.\", \"delta_confirmed_cases\": 1.0}, {\"yearweek\": \"2020-w40\", \"group\": \"Vilniaus m. sav.\", \"delta_confirmed_cases\": 1.0}, {\"yearweek\": \"2020-w40\", \"group\": \"Vilniaus r. sav.\", \"delta_confirmed_cases\": 3.0}, {\"yearweek\": \"2020-w40\", \"group\": \"\\u0160iauli\\u0173 m. sav.\", \"delta_confirmed_cases\": 5.0}, {\"yearweek\": \"2020-w41\", \"group\": \"Kauno m. sav.\", \"delta_confirmed_cases\": 3.0}, {\"yearweek\": \"2020-w41\", \"group\": \"Kauno r. sav.\", \"delta_confirmed_cases\": 6.0}, {\"yearweek\": \"2020-w41\", \"group\": \"Klaip\\u0117dos m. sav.\", \"delta_confirmed_cases\": 23.0}, {\"yearweek\": \"2020-w41\", \"group\": \"Klaip\\u0117dos r. sav.\", \"delta_confirmed_cases\": 3.0}, {\"yearweek\": \"2020-w41\", \"group\": \"K\\u0117daini\\u0173 r. sav.\", \"delta_confirmed_cases\": 0.0}, {\"yearweek\": \"2020-w41\", \"group\": \"Ma\\u017eeiki\\u0173 r. sav.\", \"delta_confirmed_cases\": 2.0}, {\"yearweek\": \"2020-w41\", \"group\": \"Other\", \"delta_confirmed_cases\": 13.0}, {\"yearweek\": \"2020-w41\", \"group\": \"Panev\\u0117\\u017eio m. sav.\", \"delta_confirmed_cases\": 6.0}, {\"yearweek\": \"2020-w41\", \"group\": \"Vilniaus m. sav.\", \"delta_confirmed_cases\": 48.0}, {\"yearweek\": \"2020-w41\", \"group\": \"Vilniaus r. sav.\", \"delta_confirmed_cases\": -1.0}, {\"yearweek\": \"2020-w41\", \"group\": \"\\u0160iauli\\u0173 m. sav.\", \"delta_confirmed_cases\": -10.0}, {\"yearweek\": \"2020-w42\", \"group\": \"Kauno m. sav.\", \"delta_confirmed_cases\": 62.0}, {\"yearweek\": \"2020-w42\", \"group\": \"Kauno r. sav.\", \"delta_confirmed_cases\": 20.0}, {\"yearweek\": \"2020-w42\", \"group\": \"Klaip\\u0117dos m. sav.\", \"delta_confirmed_cases\": 8.0}, {\"yearweek\": \"2020-w42\", \"group\": \"Klaip\\u0117dos r. sav.\", \"delta_confirmed_cases\": 16.0}, {\"yearweek\": \"2020-w42\", \"group\": \"K\\u0117daini\\u0173 r. sav.\", \"delta_confirmed_cases\": 0.0}, {\"yearweek\": \"2020-w42\", \"group\": \"Ma\\u017eeiki\\u0173 r. sav.\", \"delta_confirmed_cases\": 15.0}, {\"yearweek\": \"2020-w42\", \"group\": \"Other\", \"delta_confirmed_cases\": 99.0}, {\"yearweek\": \"2020-w42\", \"group\": \"Panev\\u0117\\u017eio m. sav.\", \"delta_confirmed_cases\": -3.0}, {\"yearweek\": \"2020-w42\", \"group\": \"Vilniaus m. sav.\", \"delta_confirmed_cases\": 104.0}, {\"yearweek\": \"2020-w42\", \"group\": \"Vilniaus r. sav.\", \"delta_confirmed_cases\": 13.0}, {\"yearweek\": \"2020-w42\", \"group\": \"\\u0160iauli\\u0173 m. sav.\", \"delta_confirmed_cases\": 9.0}, {\"yearweek\": \"2020-w43\", \"group\": \"Kauno m. sav.\", \"delta_confirmed_cases\": 0.0}, {\"yearweek\": \"2020-w43\", \"group\": \"Kauno r. sav.\", \"delta_confirmed_cases\": -1.0}, {\"yearweek\": \"2020-w43\", \"group\": \"Klaip\\u0117dos m. sav.\", \"delta_confirmed_cases\": 69.0}, {\"yearweek\": \"2020-w43\", \"group\": \"Klaip\\u0117dos r. sav.\", \"delta_confirmed_cases\": 14.0}, {\"yearweek\": \"2020-w43\", \"group\": \"K\\u0117daini\\u0173 r. sav.\", \"delta_confirmed_cases\": 4.0}, {\"yearweek\": \"2020-w43\", \"group\": \"Ma\\u017eeiki\\u0173 r. sav.\", \"delta_confirmed_cases\": 15.0}, {\"yearweek\": \"2020-w43\", \"group\": \"Other\", \"delta_confirmed_cases\": 115.0}, {\"yearweek\": \"2020-w43\", \"group\": \"Panev\\u0117\\u017eio m. sav.\", \"delta_confirmed_cases\": 14.0}, {\"yearweek\": \"2020-w43\", \"group\": \"Vilniaus m. sav.\", \"delta_confirmed_cases\": 10.0}, {\"yearweek\": \"2020-w43\", \"group\": \"Vilniaus r. sav.\", \"delta_confirmed_cases\": 0.0}, {\"yearweek\": \"2020-w43\", \"group\": \"\\u0160iauli\\u0173 m. sav.\", \"delta_confirmed_cases\": 47.0}, {\"yearweek\": \"2020-w44\", \"group\": \"Kauno m. sav.\", \"delta_confirmed_cases\": 129.0}, {\"yearweek\": \"2020-w44\", \"group\": \"Kauno r. sav.\", \"delta_confirmed_cases\": 56.0}, {\"yearweek\": \"2020-w44\", \"group\": \"Klaip\\u0117dos m. sav.\", \"delta_confirmed_cases\": 126.0}, {\"yearweek\": \"2020-w44\", \"group\": \"Klaip\\u0117dos r. sav.\", \"delta_confirmed_cases\": 42.0}, {\"yearweek\": \"2020-w44\", \"group\": \"K\\u0117daini\\u0173 r. sav.\", \"delta_confirmed_cases\": 20.0}, {\"yearweek\": \"2020-w44\", \"group\": \"Ma\\u017eeiki\\u0173 r. sav.\", \"delta_confirmed_cases\": 28.0}, {\"yearweek\": \"2020-w44\", \"group\": \"Other\", \"delta_confirmed_cases\": 428.0}, {\"yearweek\": \"2020-w44\", \"group\": \"Panev\\u0117\\u017eio m. sav.\", \"delta_confirmed_cases\": 54.0}, {\"yearweek\": \"2020-w44\", \"group\": \"Vilniaus m. sav.\", \"delta_confirmed_cases\": 206.0}, {\"yearweek\": \"2020-w44\", \"group\": \"Vilniaus r. sav.\", \"delta_confirmed_cases\": 16.0}, {\"yearweek\": \"2020-w44\", \"group\": \"\\u0160iauli\\u0173 m. sav.\", \"delta_confirmed_cases\": -12.0}, {\"yearweek\": \"2020-w45\", \"group\": \"Kauno m. sav.\", \"delta_confirmed_cases\": -111.0}, {\"yearweek\": \"2020-w45\", \"group\": \"Kauno r. sav.\", \"delta_confirmed_cases\": -40.0}, {\"yearweek\": \"2020-w45\", \"group\": \"Klaip\\u0117dos m. sav.\", \"delta_confirmed_cases\": -119.0}, {\"yearweek\": \"2020-w45\", \"group\": \"Klaip\\u0117dos r. sav.\", \"delta_confirmed_cases\": -36.0}, {\"yearweek\": \"2020-w45\", \"group\": \"K\\u0117daini\\u0173 r. sav.\", \"delta_confirmed_cases\": 0.0}, {\"yearweek\": \"2020-w45\", \"group\": \"Ma\\u017eeiki\\u0173 r. sav.\", \"delta_confirmed_cases\": 17.0}, {\"yearweek\": \"2020-w45\", \"group\": \"Other\", \"delta_confirmed_cases\": -138.0}, {\"yearweek\": \"2020-w45\", \"group\": \"Panev\\u0117\\u017eio m. sav.\", \"delta_confirmed_cases\": 16.0}, {\"yearweek\": \"2020-w45\", \"group\": \"Vilniaus m. sav.\", \"delta_confirmed_cases\": -174.0}, {\"yearweek\": \"2020-w45\", \"group\": \"Vilniaus r. sav.\", \"delta_confirmed_cases\": 8.0}, {\"yearweek\": \"2020-w45\", \"group\": \"\\u0160iauli\\u0173 m. sav.\", \"delta_confirmed_cases\": -25.0}, {\"yearweek\": \"2020-w46\", \"group\": \"Kauno m. sav.\", \"delta_confirmed_cases\": 111.0}, {\"yearweek\": \"2020-w46\", \"group\": \"Kauno r. sav.\", \"delta_confirmed_cases\": 22.0}, {\"yearweek\": \"2020-w46\", \"group\": \"Klaip\\u0117dos m. sav.\", \"delta_confirmed_cases\": 47.0}, {\"yearweek\": \"2020-w46\", \"group\": \"Klaip\\u0117dos r. sav.\", \"delta_confirmed_cases\": 5.0}, {\"yearweek\": \"2020-w46\", \"group\": \"K\\u0117daini\\u0173 r. sav.\", \"delta_confirmed_cases\": 36.0}, {\"yearweek\": \"2020-w46\", \"group\": \"Ma\\u017eeiki\\u0173 r. sav.\", \"delta_confirmed_cases\": 3.0}, {\"yearweek\": \"2020-w46\", \"group\": \"Other\", \"delta_confirmed_cases\": 400.0}, {\"yearweek\": \"2020-w46\", \"group\": \"Panev\\u0117\\u017eio m. sav.\", \"delta_confirmed_cases\": 14.0}, {\"yearweek\": \"2020-w46\", \"group\": \"Vilniaus m. sav.\", \"delta_confirmed_cases\": 213.0}, {\"yearweek\": \"2020-w46\", \"group\": \"Vilniaus r. sav.\", \"delta_confirmed_cases\": 12.0}, {\"yearweek\": \"2020-w46\", \"group\": \"\\u0160iauli\\u0173 m. sav.\", \"delta_confirmed_cases\": 71.0}, {\"yearweek\": \"2020-w47\", \"group\": \"Kauno m. sav.\", \"delta_confirmed_cases\": -40.0}, {\"yearweek\": \"2020-w47\", \"group\": \"Kauno r. sav.\", \"delta_confirmed_cases\": 9.0}, {\"yearweek\": \"2020-w47\", \"group\": \"Klaip\\u0117dos m. sav.\", \"delta_confirmed_cases\": -27.0}, {\"yearweek\": \"2020-w47\", \"group\": \"Klaip\\u0117dos r. sav.\", \"delta_confirmed_cases\": 19.0}, {\"yearweek\": \"2020-w47\", \"group\": \"K\\u0117daini\\u0173 r. sav.\", \"delta_confirmed_cases\": 38.0}, {\"yearweek\": \"2020-w47\", \"group\": \"Ma\\u017eeiki\\u0173 r. sav.\", \"delta_confirmed_cases\": -4.0}, {\"yearweek\": \"2020-w47\", \"group\": \"Other\", \"delta_confirmed_cases\": -148.0}, {\"yearweek\": \"2020-w47\", \"group\": \"Panev\\u0117\\u017eio m. sav.\", \"delta_confirmed_cases\": -15.0}, {\"yearweek\": \"2020-w47\", \"group\": \"Vilniaus m. sav.\", \"delta_confirmed_cases\": -194.0}, {\"yearweek\": \"2020-w47\", \"group\": \"Vilniaus r. sav.\", \"delta_confirmed_cases\": -6.0}, {\"yearweek\": \"2020-w47\", \"group\": \"\\u0160iauli\\u0173 m. sav.\", \"delta_confirmed_cases\": 29.0}, {\"yearweek\": \"2020-w48\", \"group\": \"Kauno m. sav.\", \"delta_confirmed_cases\": 355.0}, {\"yearweek\": \"2020-w48\", \"group\": \"Kauno r. sav.\", \"delta_confirmed_cases\": 27.0}, {\"yearweek\": \"2020-w48\", \"group\": \"Klaip\\u0117dos m. sav.\", \"delta_confirmed_cases\": -22.0}, {\"yearweek\": \"2020-w48\", \"group\": \"Klaip\\u0117dos r. sav.\", \"delta_confirmed_cases\": -28.0}, {\"yearweek\": \"2020-w48\", \"group\": \"K\\u0117daini\\u0173 r. sav.\", \"delta_confirmed_cases\": -30.0}, {\"yearweek\": \"2020-w48\", \"group\": \"Ma\\u017eeiki\\u0173 r. sav.\", \"delta_confirmed_cases\": -27.0}, {\"yearweek\": \"2020-w48\", \"group\": \"Other\", \"delta_confirmed_cases\": 276.0}, {\"yearweek\": \"2020-w48\", \"group\": \"Panev\\u0117\\u017eio m. sav.\", \"delta_confirmed_cases\": 2.0}, {\"yearweek\": \"2020-w48\", \"group\": \"Vilniaus m. sav.\", \"delta_confirmed_cases\": 297.0}, {\"yearweek\": \"2020-w48\", \"group\": \"Vilniaus r. sav.\", \"delta_confirmed_cases\": 46.0}, {\"yearweek\": \"2020-w48\", \"group\": \"\\u0160iauli\\u0173 m. sav.\", \"delta_confirmed_cases\": -17.0}]}}, {\"mode\": \"vega-lite\"});\n",
       "</script>"
      ],
      "text/plain": [
       "alt.Chart(...)"
      ]
     },
     "execution_count": 205,
     "metadata": {},
     "output_type": "execute_result"
    }
   ],
   "source": [
    "alt.Chart(plot_df).mark_line().encode(\n",
    "    x='date:T',\n",
    "    y=f'{plot_y}:Q'\n",
    ")"
   ]
  },
  {
   "cell_type": "code",
   "execution_count": 202,
   "metadata": {},
   "outputs": [
    {
     "data": {
      "text/html": [
       "\n",
       "<div id=\"altair-viz-785b78feb15646878e4a7fcc23a3f24e\"></div>\n",
       "<script type=\"text/javascript\">\n",
       "  (function(spec, embedOpt){\n",
       "    let outputDiv = document.currentScript.previousElementSibling;\n",
       "    if (outputDiv.id !== \"altair-viz-785b78feb15646878e4a7fcc23a3f24e\") {\n",
       "      outputDiv = document.getElementById(\"altair-viz-785b78feb15646878e4a7fcc23a3f24e\");\n",
       "    }\n",
       "    const paths = {\n",
       "      \"vega\": \"https://cdn.jsdelivr.net/npm//vega@5?noext\",\n",
       "      \"vega-lib\": \"https://cdn.jsdelivr.net/npm//vega-lib?noext\",\n",
       "      \"vega-lite\": \"https://cdn.jsdelivr.net/npm//vega-lite@4.8.1?noext\",\n",
       "      \"vega-embed\": \"https://cdn.jsdelivr.net/npm//vega-embed@6?noext\",\n",
       "    };\n",
       "\n",
       "    function loadScript(lib) {\n",
       "      return new Promise(function(resolve, reject) {\n",
       "        var s = document.createElement('script');\n",
       "        s.src = paths[lib];\n",
       "        s.async = true;\n",
       "        s.onload = () => resolve(paths[lib]);\n",
       "        s.onerror = () => reject(`Error loading script: ${paths[lib]}`);\n",
       "        document.getElementsByTagName(\"head\")[0].appendChild(s);\n",
       "      });\n",
       "    }\n",
       "\n",
       "    function showError(err) {\n",
       "      outputDiv.innerHTML = `<div class=\"error\" style=\"color:red;\">${err}</div>`;\n",
       "      throw err;\n",
       "    }\n",
       "\n",
       "    function displayChart(vegaEmbed) {\n",
       "      vegaEmbed(outputDiv, spec, embedOpt)\n",
       "        .catch(err => showError(`Javascript Error: ${err.message}<br>This usually means there's a typo in your chart specification. See the javascript console for the full traceback.`));\n",
       "    }\n",
       "\n",
       "    if(typeof define === \"function\" && define.amd) {\n",
       "      requirejs.config({paths});\n",
       "      require([\"vega-embed\"], displayChart, err => showError(`Error loading script: ${err.message}`));\n",
       "    } else if (typeof vegaEmbed === \"function\") {\n",
       "      displayChart(vegaEmbed);\n",
       "    } else {\n",
       "      loadScript(\"vega\")\n",
       "        .then(() => loadScript(\"vega-lite\"))\n",
       "        .then(() => loadScript(\"vega-embed\"))\n",
       "        .catch(showError)\n",
       "        .then(() => displayChart(vegaEmbed));\n",
       "    }\n",
       "  })({\"config\": {\"view\": {\"continuousWidth\": 400, \"continuousHeight\": 300}}, \"data\": {\"name\": \"data-87573a7540e89fe515c6f4d14d91c136\"}, \"mark\": \"bar\", \"encoding\": {\"x\": {\"type\": \"temporal\", \"field\": \"yearmonth\"}, \"y\": {\"type\": \"quantitative\", \"field\": \"delta_confirmed_cases\"}}, \"title\": \"opa\", \"width\": 1000, \"$schema\": \"https://vega.github.io/schema/vega-lite/v4.8.1.json\", \"datasets\": {\"data-87573a7540e89fe515c6f4d14d91c136\": [{\"yearweek\": \"2020-w35\", \"group\": \"Kauno m. sav.\", \"delta_confirmed_cases\": 1.0}, {\"yearweek\": \"2020-w35\", \"group\": \"Kauno r. sav.\", \"delta_confirmed_cases\": 0.0}, {\"yearweek\": \"2020-w35\", \"group\": \"Klaip\\u0117dos m. sav.\", \"delta_confirmed_cases\": 0.0}, {\"yearweek\": \"2020-w35\", \"group\": \"Klaip\\u0117dos r. sav.\", \"delta_confirmed_cases\": 1.0}, {\"yearweek\": \"2020-w35\", \"group\": \"K\\u0117daini\\u0173 r. sav.\", \"delta_confirmed_cases\": 2.0}, {\"yearweek\": \"2020-w35\", \"group\": \"Ma\\u017eeiki\\u0173 r. sav.\", \"delta_confirmed_cases\": -1.0}, {\"yearweek\": \"2020-w35\", \"group\": \"Other\", \"delta_confirmed_cases\": 0.0}, {\"yearweek\": \"2020-w35\", \"group\": \"Panev\\u0117\\u017eio m. sav.\", \"delta_confirmed_cases\": -1.0}, {\"yearweek\": \"2020-w35\", \"group\": \"Vilniaus m. sav.\", \"delta_confirmed_cases\": 8.0}, {\"yearweek\": \"2020-w35\", \"group\": \"Vilniaus r. sav.\", \"delta_confirmed_cases\": 1.0}, {\"yearweek\": \"2020-w35\", \"group\": \"\\u0160iauli\\u0173 m. sav.\", \"delta_confirmed_cases\": 3.0}, {\"yearweek\": \"2020-w36\", \"group\": \"Kauno m. sav.\", \"delta_confirmed_cases\": -1.0}, {\"yearweek\": \"2020-w36\", \"group\": \"Kauno r. sav.\", \"delta_confirmed_cases\": -1.0}, {\"yearweek\": \"2020-w36\", \"group\": \"Klaip\\u0117dos m. sav.\", \"delta_confirmed_cases\": 5.0}, {\"yearweek\": \"2020-w36\", \"group\": \"Klaip\\u0117dos r. sav.\", \"delta_confirmed_cases\": -2.0}, {\"yearweek\": \"2020-w36\", \"group\": \"K\\u0117daini\\u0173 r. sav.\", \"delta_confirmed_cases\": -2.0}, {\"yearweek\": \"2020-w36\", \"group\": \"Ma\\u017eeiki\\u0173 r. sav.\", \"delta_confirmed_cases\": 1.0}, {\"yearweek\": \"2020-w36\", \"group\": \"Other\", \"delta_confirmed_cases\": 6.0}, {\"yearweek\": \"2020-w36\", \"group\": \"Panev\\u0117\\u017eio m. sav.\", \"delta_confirmed_cases\": 0.0}, {\"yearweek\": \"2020-w36\", \"group\": \"Vilniaus m. sav.\", \"delta_confirmed_cases\": -6.0}, {\"yearweek\": \"2020-w36\", \"group\": \"Vilniaus r. sav.\", \"delta_confirmed_cases\": 1.0}, {\"yearweek\": \"2020-w36\", \"group\": \"\\u0160iauli\\u0173 m. sav.\", \"delta_confirmed_cases\": -5.0}, {\"yearweek\": \"2020-w37\", \"group\": \"Kauno m. sav.\", \"delta_confirmed_cases\": 8.0}, {\"yearweek\": \"2020-w37\", \"group\": \"Kauno r. sav.\", \"delta_confirmed_cases\": 1.0}, {\"yearweek\": \"2020-w37\", \"group\": \"Klaip\\u0117dos m. sav.\", \"delta_confirmed_cases\": -1.0}, {\"yearweek\": \"2020-w37\", \"group\": \"Klaip\\u0117dos r. sav.\", \"delta_confirmed_cases\": 0.0}, {\"yearweek\": \"2020-w37\", \"group\": \"K\\u0117daini\\u0173 r. sav.\", \"delta_confirmed_cases\": 0.0}, {\"yearweek\": \"2020-w37\", \"group\": \"Ma\\u017eeiki\\u0173 r. sav.\", \"delta_confirmed_cases\": 0.0}, {\"yearweek\": \"2020-w37\", \"group\": \"Other\", \"delta_confirmed_cases\": 25.0}, {\"yearweek\": \"2020-w37\", \"group\": \"Panev\\u0117\\u017eio m. sav.\", \"delta_confirmed_cases\": 2.0}, {\"yearweek\": \"2020-w37\", \"group\": \"Vilniaus m. sav.\", \"delta_confirmed_cases\": 0.0}, {\"yearweek\": \"2020-w37\", \"group\": \"Vilniaus r. sav.\", \"delta_confirmed_cases\": 1.0}, {\"yearweek\": \"2020-w37\", \"group\": \"\\u0160iauli\\u0173 m. sav.\", \"delta_confirmed_cases\": 5.0}, {\"yearweek\": \"2020-w38\", \"group\": \"Kauno m. sav.\", \"delta_confirmed_cases\": 2.0}, {\"yearweek\": \"2020-w38\", \"group\": \"Kauno r. sav.\", \"delta_confirmed_cases\": 0.0}, {\"yearweek\": \"2020-w38\", \"group\": \"Klaip\\u0117dos m. sav.\", \"delta_confirmed_cases\": -4.0}, {\"yearweek\": \"2020-w38\", \"group\": \"Klaip\\u0117dos r. sav.\", \"delta_confirmed_cases\": 0.0}, {\"yearweek\": \"2020-w38\", \"group\": \"K\\u0117daini\\u0173 r. sav.\", \"delta_confirmed_cases\": 7.0}, {\"yearweek\": \"2020-w38\", \"group\": \"Ma\\u017eeiki\\u0173 r. sav.\", \"delta_confirmed_cases\": 2.0}, {\"yearweek\": \"2020-w38\", \"group\": \"Other\", \"delta_confirmed_cases\": -15.0}, {\"yearweek\": \"2020-w38\", \"group\": \"Panev\\u0117\\u017eio m. sav.\", \"delta_confirmed_cases\": 6.0}, {\"yearweek\": \"2020-w38\", \"group\": \"Vilniaus m. sav.\", \"delta_confirmed_cases\": 9.0}, {\"yearweek\": \"2020-w38\", \"group\": \"Vilniaus r. sav.\", \"delta_confirmed_cases\": -1.0}, {\"yearweek\": \"2020-w38\", \"group\": \"\\u0160iauli\\u0173 m. sav.\", \"delta_confirmed_cases\": 5.0}, {\"yearweek\": \"2020-w39\", \"group\": \"Kauno m. sav.\", \"delta_confirmed_cases\": -3.0}, {\"yearweek\": \"2020-w39\", \"group\": \"Kauno r. sav.\", \"delta_confirmed_cases\": 2.0}, {\"yearweek\": \"2020-w39\", \"group\": \"Klaip\\u0117dos m. sav.\", \"delta_confirmed_cases\": 4.0}, {\"yearweek\": \"2020-w39\", \"group\": \"Klaip\\u0117dos r. sav.\", \"delta_confirmed_cases\": 0.0}, {\"yearweek\": \"2020-w39\", \"group\": \"K\\u0117daini\\u0173 r. sav.\", \"delta_confirmed_cases\": -7.0}, {\"yearweek\": \"2020-w39\", \"group\": \"Ma\\u017eeiki\\u0173 r. sav.\", \"delta_confirmed_cases\": -3.0}, {\"yearweek\": \"2020-w39\", \"group\": \"Other\", \"delta_confirmed_cases\": 14.0}, {\"yearweek\": \"2020-w39\", \"group\": \"Panev\\u0117\\u017eio m. sav.\", \"delta_confirmed_cases\": -8.0}, {\"yearweek\": \"2020-w39\", \"group\": \"Vilniaus m. sav.\", \"delta_confirmed_cases\": 12.0}, {\"yearweek\": \"2020-w39\", \"group\": \"Vilniaus r. sav.\", \"delta_confirmed_cases\": -1.0}, {\"yearweek\": \"2020-w39\", \"group\": \"\\u0160iauli\\u0173 m. sav.\", \"delta_confirmed_cases\": 4.0}, {\"yearweek\": \"2020-w40\", \"group\": \"Kauno m. sav.\", \"delta_confirmed_cases\": 8.0}, {\"yearweek\": \"2020-w40\", \"group\": \"Kauno r. sav.\", \"delta_confirmed_cases\": -2.0}, {\"yearweek\": \"2020-w40\", \"group\": \"Klaip\\u0117dos m. sav.\", \"delta_confirmed_cases\": -1.0}, {\"yearweek\": \"2020-w40\", \"group\": \"Klaip\\u0117dos r. sav.\", \"delta_confirmed_cases\": 1.0}, {\"yearweek\": \"2020-w40\", \"group\": \"K\\u0117daini\\u0173 r. sav.\", \"delta_confirmed_cases\": 0.0}, {\"yearweek\": \"2020-w40\", \"group\": \"Ma\\u017eeiki\\u0173 r. sav.\", \"delta_confirmed_cases\": 0.0}, {\"yearweek\": \"2020-w40\", \"group\": \"Other\", \"delta_confirmed_cases\": 39.0}, {\"yearweek\": \"2020-w40\", \"group\": \"Panev\\u0117\\u017eio m. sav.\", \"delta_confirmed_cases\": 1.0}, {\"yearweek\": \"2020-w40\", \"group\": \"Vilniaus m. sav.\", \"delta_confirmed_cases\": 1.0}, {\"yearweek\": \"2020-w40\", \"group\": \"Vilniaus r. sav.\", \"delta_confirmed_cases\": 3.0}, {\"yearweek\": \"2020-w40\", \"group\": \"\\u0160iauli\\u0173 m. sav.\", \"delta_confirmed_cases\": 5.0}, {\"yearweek\": \"2020-w41\", \"group\": \"Kauno m. sav.\", \"delta_confirmed_cases\": 3.0}, {\"yearweek\": \"2020-w41\", \"group\": \"Kauno r. sav.\", \"delta_confirmed_cases\": 6.0}, {\"yearweek\": \"2020-w41\", \"group\": \"Klaip\\u0117dos m. sav.\", \"delta_confirmed_cases\": 23.0}, {\"yearweek\": \"2020-w41\", \"group\": \"Klaip\\u0117dos r. sav.\", \"delta_confirmed_cases\": 3.0}, {\"yearweek\": \"2020-w41\", \"group\": \"K\\u0117daini\\u0173 r. sav.\", \"delta_confirmed_cases\": 0.0}, {\"yearweek\": \"2020-w41\", \"group\": \"Ma\\u017eeiki\\u0173 r. sav.\", \"delta_confirmed_cases\": 2.0}, {\"yearweek\": \"2020-w41\", \"group\": \"Other\", \"delta_confirmed_cases\": 13.0}, {\"yearweek\": \"2020-w41\", \"group\": \"Panev\\u0117\\u017eio m. sav.\", \"delta_confirmed_cases\": 6.0}, {\"yearweek\": \"2020-w41\", \"group\": \"Vilniaus m. sav.\", \"delta_confirmed_cases\": 48.0}, {\"yearweek\": \"2020-w41\", \"group\": \"Vilniaus r. sav.\", \"delta_confirmed_cases\": -1.0}, {\"yearweek\": \"2020-w41\", \"group\": \"\\u0160iauli\\u0173 m. sav.\", \"delta_confirmed_cases\": -10.0}, {\"yearweek\": \"2020-w42\", \"group\": \"Kauno m. sav.\", \"delta_confirmed_cases\": 62.0}, {\"yearweek\": \"2020-w42\", \"group\": \"Kauno r. sav.\", \"delta_confirmed_cases\": 20.0}, {\"yearweek\": \"2020-w42\", \"group\": \"Klaip\\u0117dos m. sav.\", \"delta_confirmed_cases\": 8.0}, {\"yearweek\": \"2020-w42\", \"group\": \"Klaip\\u0117dos r. sav.\", \"delta_confirmed_cases\": 16.0}, {\"yearweek\": \"2020-w42\", \"group\": \"K\\u0117daini\\u0173 r. sav.\", \"delta_confirmed_cases\": 0.0}, {\"yearweek\": \"2020-w42\", \"group\": \"Ma\\u017eeiki\\u0173 r. sav.\", \"delta_confirmed_cases\": 15.0}, {\"yearweek\": \"2020-w42\", \"group\": \"Other\", \"delta_confirmed_cases\": 99.0}, {\"yearweek\": \"2020-w42\", \"group\": \"Panev\\u0117\\u017eio m. sav.\", \"delta_confirmed_cases\": -3.0}, {\"yearweek\": \"2020-w42\", \"group\": \"Vilniaus m. sav.\", \"delta_confirmed_cases\": 104.0}, {\"yearweek\": \"2020-w42\", \"group\": \"Vilniaus r. sav.\", \"delta_confirmed_cases\": 13.0}, {\"yearweek\": \"2020-w42\", \"group\": \"\\u0160iauli\\u0173 m. sav.\", \"delta_confirmed_cases\": 9.0}, {\"yearweek\": \"2020-w43\", \"group\": \"Kauno m. sav.\", \"delta_confirmed_cases\": 0.0}, {\"yearweek\": \"2020-w43\", \"group\": \"Kauno r. sav.\", \"delta_confirmed_cases\": -1.0}, {\"yearweek\": \"2020-w43\", \"group\": \"Klaip\\u0117dos m. sav.\", \"delta_confirmed_cases\": 69.0}, {\"yearweek\": \"2020-w43\", \"group\": \"Klaip\\u0117dos r. sav.\", \"delta_confirmed_cases\": 14.0}, {\"yearweek\": \"2020-w43\", \"group\": \"K\\u0117daini\\u0173 r. sav.\", \"delta_confirmed_cases\": 4.0}, {\"yearweek\": \"2020-w43\", \"group\": \"Ma\\u017eeiki\\u0173 r. sav.\", \"delta_confirmed_cases\": 15.0}, {\"yearweek\": \"2020-w43\", \"group\": \"Other\", \"delta_confirmed_cases\": 115.0}, {\"yearweek\": \"2020-w43\", \"group\": \"Panev\\u0117\\u017eio m. sav.\", \"delta_confirmed_cases\": 14.0}, {\"yearweek\": \"2020-w43\", \"group\": \"Vilniaus m. sav.\", \"delta_confirmed_cases\": 10.0}, {\"yearweek\": \"2020-w43\", \"group\": \"Vilniaus r. sav.\", \"delta_confirmed_cases\": 0.0}, {\"yearweek\": \"2020-w43\", \"group\": \"\\u0160iauli\\u0173 m. sav.\", \"delta_confirmed_cases\": 47.0}, {\"yearweek\": \"2020-w44\", \"group\": \"Kauno m. sav.\", \"delta_confirmed_cases\": 129.0}, {\"yearweek\": \"2020-w44\", \"group\": \"Kauno r. sav.\", \"delta_confirmed_cases\": 56.0}, {\"yearweek\": \"2020-w44\", \"group\": \"Klaip\\u0117dos m. sav.\", \"delta_confirmed_cases\": 126.0}, {\"yearweek\": \"2020-w44\", \"group\": \"Klaip\\u0117dos r. sav.\", \"delta_confirmed_cases\": 42.0}, {\"yearweek\": \"2020-w44\", \"group\": \"K\\u0117daini\\u0173 r. sav.\", \"delta_confirmed_cases\": 20.0}, {\"yearweek\": \"2020-w44\", \"group\": \"Ma\\u017eeiki\\u0173 r. sav.\", \"delta_confirmed_cases\": 28.0}, {\"yearweek\": \"2020-w44\", \"group\": \"Other\", \"delta_confirmed_cases\": 428.0}, {\"yearweek\": \"2020-w44\", \"group\": \"Panev\\u0117\\u017eio m. sav.\", \"delta_confirmed_cases\": 54.0}, {\"yearweek\": \"2020-w44\", \"group\": \"Vilniaus m. sav.\", \"delta_confirmed_cases\": 206.0}, {\"yearweek\": \"2020-w44\", \"group\": \"Vilniaus r. sav.\", \"delta_confirmed_cases\": 16.0}, {\"yearweek\": \"2020-w44\", \"group\": \"\\u0160iauli\\u0173 m. sav.\", \"delta_confirmed_cases\": -12.0}, {\"yearweek\": \"2020-w45\", \"group\": \"Kauno m. sav.\", \"delta_confirmed_cases\": -111.0}, {\"yearweek\": \"2020-w45\", \"group\": \"Kauno r. sav.\", \"delta_confirmed_cases\": -40.0}, {\"yearweek\": \"2020-w45\", \"group\": \"Klaip\\u0117dos m. sav.\", \"delta_confirmed_cases\": -119.0}, {\"yearweek\": \"2020-w45\", \"group\": \"Klaip\\u0117dos r. sav.\", \"delta_confirmed_cases\": -36.0}, {\"yearweek\": \"2020-w45\", \"group\": \"K\\u0117daini\\u0173 r. sav.\", \"delta_confirmed_cases\": 0.0}, {\"yearweek\": \"2020-w45\", \"group\": \"Ma\\u017eeiki\\u0173 r. sav.\", \"delta_confirmed_cases\": 17.0}, {\"yearweek\": \"2020-w45\", \"group\": \"Other\", \"delta_confirmed_cases\": -138.0}, {\"yearweek\": \"2020-w45\", \"group\": \"Panev\\u0117\\u017eio m. sav.\", \"delta_confirmed_cases\": 16.0}, {\"yearweek\": \"2020-w45\", \"group\": \"Vilniaus m. sav.\", \"delta_confirmed_cases\": -174.0}, {\"yearweek\": \"2020-w45\", \"group\": \"Vilniaus r. sav.\", \"delta_confirmed_cases\": 8.0}, {\"yearweek\": \"2020-w45\", \"group\": \"\\u0160iauli\\u0173 m. sav.\", \"delta_confirmed_cases\": -25.0}, {\"yearweek\": \"2020-w46\", \"group\": \"Kauno m. sav.\", \"delta_confirmed_cases\": 111.0}, {\"yearweek\": \"2020-w46\", \"group\": \"Kauno r. sav.\", \"delta_confirmed_cases\": 22.0}, {\"yearweek\": \"2020-w46\", \"group\": \"Klaip\\u0117dos m. sav.\", \"delta_confirmed_cases\": 47.0}, {\"yearweek\": \"2020-w46\", \"group\": \"Klaip\\u0117dos r. sav.\", \"delta_confirmed_cases\": 5.0}, {\"yearweek\": \"2020-w46\", \"group\": \"K\\u0117daini\\u0173 r. sav.\", \"delta_confirmed_cases\": 36.0}, {\"yearweek\": \"2020-w46\", \"group\": \"Ma\\u017eeiki\\u0173 r. sav.\", \"delta_confirmed_cases\": 3.0}, {\"yearweek\": \"2020-w46\", \"group\": \"Other\", \"delta_confirmed_cases\": 400.0}, {\"yearweek\": \"2020-w46\", \"group\": \"Panev\\u0117\\u017eio m. sav.\", \"delta_confirmed_cases\": 14.0}, {\"yearweek\": \"2020-w46\", \"group\": \"Vilniaus m. sav.\", \"delta_confirmed_cases\": 213.0}, {\"yearweek\": \"2020-w46\", \"group\": \"Vilniaus r. sav.\", \"delta_confirmed_cases\": 12.0}, {\"yearweek\": \"2020-w46\", \"group\": \"\\u0160iauli\\u0173 m. sav.\", \"delta_confirmed_cases\": 71.0}, {\"yearweek\": \"2020-w47\", \"group\": \"Kauno m. sav.\", \"delta_confirmed_cases\": -40.0}, {\"yearweek\": \"2020-w47\", \"group\": \"Kauno r. sav.\", \"delta_confirmed_cases\": 9.0}, {\"yearweek\": \"2020-w47\", \"group\": \"Klaip\\u0117dos m. sav.\", \"delta_confirmed_cases\": -27.0}, {\"yearweek\": \"2020-w47\", \"group\": \"Klaip\\u0117dos r. sav.\", \"delta_confirmed_cases\": 19.0}, {\"yearweek\": \"2020-w47\", \"group\": \"K\\u0117daini\\u0173 r. sav.\", \"delta_confirmed_cases\": 38.0}, {\"yearweek\": \"2020-w47\", \"group\": \"Ma\\u017eeiki\\u0173 r. sav.\", \"delta_confirmed_cases\": -4.0}, {\"yearweek\": \"2020-w47\", \"group\": \"Other\", \"delta_confirmed_cases\": -148.0}, {\"yearweek\": \"2020-w47\", \"group\": \"Panev\\u0117\\u017eio m. sav.\", \"delta_confirmed_cases\": -15.0}, {\"yearweek\": \"2020-w47\", \"group\": \"Vilniaus m. sav.\", \"delta_confirmed_cases\": -194.0}, {\"yearweek\": \"2020-w47\", \"group\": \"Vilniaus r. sav.\", \"delta_confirmed_cases\": -6.0}, {\"yearweek\": \"2020-w47\", \"group\": \"\\u0160iauli\\u0173 m. sav.\", \"delta_confirmed_cases\": 29.0}, {\"yearweek\": \"2020-w48\", \"group\": \"Kauno m. sav.\", \"delta_confirmed_cases\": 355.0}, {\"yearweek\": \"2020-w48\", \"group\": \"Kauno r. sav.\", \"delta_confirmed_cases\": 27.0}, {\"yearweek\": \"2020-w48\", \"group\": \"Klaip\\u0117dos m. sav.\", \"delta_confirmed_cases\": -22.0}, {\"yearweek\": \"2020-w48\", \"group\": \"Klaip\\u0117dos r. sav.\", \"delta_confirmed_cases\": -28.0}, {\"yearweek\": \"2020-w48\", \"group\": \"K\\u0117daini\\u0173 r. sav.\", \"delta_confirmed_cases\": -30.0}, {\"yearweek\": \"2020-w48\", \"group\": \"Ma\\u017eeiki\\u0173 r. sav.\", \"delta_confirmed_cases\": -27.0}, {\"yearweek\": \"2020-w48\", \"group\": \"Other\", \"delta_confirmed_cases\": 276.0}, {\"yearweek\": \"2020-w48\", \"group\": \"Panev\\u0117\\u017eio m. sav.\", \"delta_confirmed_cases\": 2.0}, {\"yearweek\": \"2020-w48\", \"group\": \"Vilniaus m. sav.\", \"delta_confirmed_cases\": 297.0}, {\"yearweek\": \"2020-w48\", \"group\": \"Vilniaus r. sav.\", \"delta_confirmed_cases\": 46.0}, {\"yearweek\": \"2020-w48\", \"group\": \"\\u0160iauli\\u0173 m. sav.\", \"delta_confirmed_cases\": -17.0}]}}, {\"mode\": \"vega-lite\"});\n",
       "</script>"
      ],
      "text/plain": [
       "alt.Chart(...)"
      ]
     },
     "execution_count": 202,
     "metadata": {},
     "output_type": "execute_result"
    }
   ],
   "source": []
  },
  {
   "cell_type": "code",
   "execution_count": null,
   "metadata": {},
   "outputs": [],
   "source": []
  }
 ],
 "metadata": {
  "kernelspec": {
   "display_name": "Python 3",
   "language": "python",
   "name": "python3"
  },
  "language_info": {
   "codemirror_mode": {
    "name": "ipython",
    "version": 3
   },
   "file_extension": ".py",
   "mimetype": "text/x-python",
   "name": "python",
   "nbconvert_exporter": "python",
   "pygments_lexer": "ipython3",
   "version": "3.8.5"
  }
 },
 "nbformat": 4,
 "nbformat_minor": 4
}
